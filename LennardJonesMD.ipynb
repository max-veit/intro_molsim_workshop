{
 "cells": [
  {
   "cell_type": "markdown",
   "id": "4cffbeb9-fb1c-4850-9ce7-a33c51224158",
   "metadata": {
    "id": "4cffbeb9-fb1c-4850-9ce7-a33c51224158"
   },
   "source": [
    "# Molecular dynamics simulations with the Lennard-Jones potential"
   ]
  },
  {
   "cell_type": "markdown",
   "id": "d04bb615-cd24-4404-9814-70d9e9cdad16",
   "metadata": {
    "id": "d04bb615-cd24-4404-9814-70d9e9cdad16"
   },
   "source": [
    "## Setup"
   ]
  },
  {
   "cell_type": "markdown",
   "id": "8af71a98-b6f5-4f78-8e2a-1c1394225a59",
   "metadata": {
    "id": "8af71a98-b6f5-4f78-8e2a-1c1394225a59"
   },
   "source": [
    "The first thing you will need to do is install the [ASE package](https://wiki.fysik.dtu.dk/ase/) (for Atomic Simulation Environment).  First, make sure you are in the correct Python virtual environment.  If you have been installing packages with `pip`, you can just run:\n",
    "\n",
    "    pip install ase\n",
    "\n",
    "and it should install it into the correct environment.  Make sure it works by running the cell below:"
   ]
  },
  {
   "cell_type": "code",
   "execution_count": null,
   "id": "5d84673b-6c13-455f-b0b9-61eec0d73618",
   "metadata": {
    "id": "5d84673b-6c13-455f-b0b9-61eec0d73618"
   },
   "outputs": [],
   "source": [
    "import ase"
   ]
  },
  {
   "cell_type": "markdown",
   "id": "3e1d028a-0db5-4ec8-83ae-4bf2de26f528",
   "metadata": {
    "id": "3e1d028a-0db5-4ec8-83ae-4bf2de26f528"
   },
   "source": [
    "If you get errors at this stage, please ask for help."
   ]
  },
  {
   "cell_type": "markdown",
   "id": "02a10a9b-696a-4fc9-92ad-7cf0ffbda7a2",
   "metadata": {
    "id": "02a10a9b-696a-4fc9-92ad-7cf0ffbda7a2"
   },
   "source": [
    "**Note for Anaconda/conda users**: The ASE package is not available through Anaconda's default distribution channels.  It is, however, available from [conda-forge](https://conda-forge.org/packages/).  You can use the following installation command (again, make sure you are in the correct environment):\n",
    "\n",
    "    conda install -c conda-forge --strict-channel-priority ase\n",
    "\n",
    "and try the `import` command above."
   ]
  },
  {
   "cell_type": "markdown",
   "id": "9addafd7-8c13-4f38-8697-fddc6d40875b",
   "metadata": {},
   "source": [
    "## Extra steps for Google Colab"
   ]
  },
  {
   "cell_type": "code",
   "execution_count": null,
   "id": "yCUOPBtyjxpw",
   "metadata": {
    "colab": {
     "base_uri": "https://localhost:8080/"
    },
    "id": "yCUOPBtyjxpw",
    "outputId": "ae1fb534-14fe-419b-bd90-e1744a467ab0"
   },
   "outputs": [],
   "source": [
    "!pip install ase"
   ]
  },
  {
   "cell_type": "markdown",
   "id": "2a1a4e1c-8b56-4833-ae0d-9e54e5c45268",
   "metadata": {},
   "source": [
    "The installation command below is needed to make sure the `nglview` viewer widget works in the Colab environment.  Do not modify it unless you know what you are doing!"
   ]
  },
  {
   "cell_type": "code",
   "execution_count": null,
   "id": "a8a722e8-7a06-4e6a-9935-a145d2d20bf7",
   "metadata": {},
   "outputs": [],
   "source": [
    "!pip install nglview ipywidgets==7.5"
   ]
  },
  {
   "cell_type": "markdown",
   "id": "698bd2f8-332e-4c0a-b7c3-4829fad60325",
   "metadata": {},
   "source": [
    "You will be prompted to restart the notebook runtime.  Don't worry, your files won't be deleted and the notebook won't be changed, but you will need to re-run any `import` statements.\n",
    "\n",
    "Do not re-run the install commands!"
   ]
  },
  {
   "cell_type": "markdown",
   "id": "2605c76c-b332-438d-ae27-41490bdbdcd3",
   "metadata": {},
   "source": [
    "Finally, you will need to run the cell below to enable the viewer \"widget\" to display in the Colab notebook.  Make sure to re-run this every time you restart the notebook runtime or reload the notebook itself."
   ]
  },
  {
   "cell_type": "code",
   "execution_count": null,
   "id": "df3bd84b-7408-42a7-8849-ad8219c81ff7",
   "metadata": {},
   "outputs": [],
   "source": [
    "from google.colab import output\n",
    "output.enable_custom_widget_manager()"
   ]
  },
  {
   "cell_type": "markdown",
   "id": "f7829697-2d22-486e-9781-05bd25625587",
   "metadata": {},
   "source": [
    "**Note**: The `nglviewer` widget is still unreliable in the Colab notebook environment (this is mostly Google's fault, rather than the fault of the widget developers.  It's one of the many reasons I would discourage using Colab in the first place... but if you're reading this, you're probably stuck using it for one reason or another.)\n",
    "\n",
    "If the widget does not display properly (e.g. missing atoms or unit cell, or missing sliders/controls, or controls not working properly), try _closing the widget_ by _clearing the cell output_ (open the menu to the top left of the widget and then click \"Clear selected outputs\").  **Make sure** to close the widget after every use so that it doesn't interfere with other widgets that you open later on!"
   ]
  },
  {
   "cell_type": "markdown",
   "id": "10c00791-608f-4c41-829c-16bb24375890",
   "metadata": {
    "id": "10c00791-608f-4c41-829c-16bb24375890"
   },
   "source": [
    "### Other imports"
   ]
  },
  {
   "cell_type": "code",
   "execution_count": null,
   "id": "0000edc2-96b5-458f-a724-6c29076d9aef",
   "metadata": {
    "id": "5d84673b-6c13-455f-b0b9-61eec0d73618"
   },
   "outputs": [],
   "source": [
    "import ase\n",
    "import ase.io"
   ]
  },
  {
   "cell_type": "code",
   "execution_count": null,
   "id": "688a6973-aa4c-4005-8021-efe66e91c6bd",
   "metadata": {
    "id": "688a6973-aa4c-4005-8021-efe66e91c6bd"
   },
   "outputs": [],
   "source": [
    "import numpy as np\n",
    "from matplotlib import pyplot as plt"
   ]
  },
  {
   "cell_type": "markdown",
   "id": "b4b44613-2930-4641-9403-38101d8467c4",
   "metadata": {
    "id": "b4b44613-2930-4641-9403-38101d8467c4"
   },
   "source": [
    "### Viewing atomic structures"
   ]
  },
  {
   "cell_type": "markdown",
   "id": "e8724542-7d37-4db9-8292-1a5355ac4ac4",
   "metadata": {
    "id": "e8724542-7d37-4db9-8292-1a5355ac4ac4"
   },
   "source": [
    "It is important that we visualize atomic structures and their evolution in time, so that we can _see_ the (qualitative) behaviour of a system.  ASE provides a few ways to do this.  The most full-featured and user-friendly one is the [ASE GUI](https://wiki.fysik.dtu.dk/ase/ase/gui/gui.html), accessible from the command line with:\n",
    "\n",
    "    ase gui <structure_file.xyz>\n",
    "\n",
    "where `<structure_file.xyz>` is a file containing the structures you want to view."
   ]
  },
  {
   "cell_type": "markdown",
   "id": "a94b7e9f-4196-407f-9376-c7e87c5647ba",
   "metadata": {
    "id": "a94b7e9f-4196-407f-9376-c7e87c5647ba"
   },
   "source": [
    "You can also view structures directly in the notebook environment.  This can be very useful for quick checking of structures without interrupting your workflow.  To do this, you first have to import ASE's `view()` function:"
   ]
  },
  {
   "cell_type": "code",
   "execution_count": null,
   "id": "302491f6-68dc-40a0-97e5-b7fcd8851bc8",
   "metadata": {
    "id": "302491f6-68dc-40a0-97e5-b7fcd8851bc8"
   },
   "outputs": [],
   "source": [
    "from ase.visualize import view"
   ]
  },
  {
   "cell_type": "markdown",
   "id": "c799b602-89e9-4617-b7b0-d4b6cb22afea",
   "metadata": {
    "id": "c799b602-89e9-4617-b7b0-d4b6cb22afea"
   },
   "source": [
    "Now, if you just call `view(structure)` on an atomic structure, you will see a visualization directly in the notebook.  Note that this visualization is still a bit basic; you can get more features by installing the `nglview` plugin:\n",
    "\n",
    "    pip install nglview\n",
    "or\n",
    "\n",
    "    conda install -c conda-forge --strict-channel-priority nglview\n",
    "\n",
    "You can now call the viewer function like: `view(structure, viewer='ngl')` and you will get a more interactive structure viewer.  Try it out below!"
   ]
  },
  {
   "cell_type": "markdown",
   "id": "b902334d-d7d0-47c5-b0ce-fdad62e60a12",
   "metadata": {
    "id": "b902334d-d7d0-47c5-b0ce-fdad62e60a12"
   },
   "source": [
    "## Initial configuration"
   ]
  },
  {
   "cell_type": "markdown",
   "id": "e7e75b30-fcab-497e-83dd-a2d6ac483aa4",
   "metadata": {
    "id": "e7e75b30-fcab-497e-83dd-a2d6ac483aa4"
   },
   "source": [
    "Let's start with an _initial configuration_ of atoms.  I've prepared a starting structure (a crystal of 32 Ar atoms in the FCC close-packed configuration) using the code below, but you can just load the structure from the file included with this tutorial."
   ]
  },
  {
   "cell_type": "code",
   "execution_count": null,
   "id": "571a58a5-f675-415b-8480-28995c433bea",
   "metadata": {
    "id": "571a58a5-f675-415b-8480-28995c433bea"
   },
   "outputs": [],
   "source": [
    "from ase.build import bulk, make_supercell\n",
    "starting_unit = bulk('Ar', 'fcc', a=5.0, cubic=True)\n",
    "starting_config = make_supercell(starting_unit, 2*np.eye(3, dtype=int))"
   ]
  },
  {
   "cell_type": "code",
   "execution_count": null,
   "id": "ae452f26-6848-45aa-8a3a-ece953a6b85f",
   "metadata": {
    "id": "ae452f26-6848-45aa-8a3a-ece953a6b85f"
   },
   "outputs": [],
   "source": [
    "import ase.io"
   ]
  },
  {
   "cell_type": "code",
   "execution_count": null,
   "id": "260867ac-903d-48cc-a1cf-fdcced4a31cd",
   "metadata": {
    "id": "260867ac-903d-48cc-a1cf-fdcced4a31cd"
   },
   "outputs": [],
   "source": [
    "ase.io.write('starting_config.xyz', starting_config)"
   ]
  },
  {
   "cell_type": "markdown",
   "id": "523d44ee-a484-4661-be60-c1f52788a70f",
   "metadata": {
    "id": "523d44ee-a484-4661-be60-c1f52788a70f"
   },
   "source": [
    "----"
   ]
  },
  {
   "cell_type": "code",
   "execution_count": null,
   "id": "834cdc8b-72ed-4fcb-bfc7-298b8bb4ee6b",
   "metadata": {
    "id": "834cdc8b-72ed-4fcb-bfc7-298b8bb4ee6b"
   },
   "outputs": [],
   "source": [
    "starting_config = ase.io.read('starting_config.xyz')"
   ]
  },
  {
   "cell_type": "code",
   "execution_count": null,
   "id": "e8a20942-d25b-4ba1-89bf-d08844319ce0",
   "metadata": {
    "colab": {
     "base_uri": "https://localhost:8080/",
     "height": 317
    },
    "id": "e8a20942-d25b-4ba1-89bf-d08844319ce0",
    "outputId": "c6f095e2-84aa-478b-8c68-d028f52750f8"
   },
   "outputs": [],
   "source": [
    "# Note: This may not work if you haven't gotten nglview installed or configured correctly\n",
    "view(starting_config, viewer='ngl')"
   ]
  },
  {
   "cell_type": "markdown",
   "id": "c94e4b3f-a199-48ac-925d-8782320bfea2",
   "metadata": {
    "id": "c94e4b3f-a199-48ac-925d-8782320bfea2"
   },
   "source": [
    "## Defining the potential"
   ]
  },
  {
   "cell_type": "markdown",
   "id": "8dd7332c-9e90-45f7-8743-1c7de29c31cf",
   "metadata": {
    "id": "8dd7332c-9e90-45f7-8743-1c7de29c31cf"
   },
   "source": [
    "Now, we will define the _potential energy surface_ that determines how the atoms interact.  In some ways, this is the most important ingredient in an atomistic simulation!\n",
    "\n",
    "As discussed, we will use the Lennard-Jones potential here, defined by the equation:\n",
    "$$\n",
    "u(r) = 4\\varepsilon \\left(\\left(\\frac{r_0}{r}\\right)^{12} - \\left(\\frac{r_0}{r}^{6}\\right)\\right)\n",
    "$$\n",
    "applied between all pairs of atoms within some _maximum distance_ of each other.  This maximum distance is another important parameter of the potential, and it is typically called the \"cutoff\".\n",
    "\n",
    "To calculate this potential for any atomic configuration, we will use ASE's built-in potential _calculator_:"
   ]
  },
  {
   "cell_type": "code",
   "execution_count": null,
   "id": "ce01f854-343f-4a88-bcf9-9ebb8575539b",
   "metadata": {
    "id": "ce01f854-343f-4a88-bcf9-9ebb8575539b"
   },
   "outputs": [],
   "source": [
    "from ase.calculators.lj import LennardJones"
   ]
  },
  {
   "cell_type": "code",
   "execution_count": null,
   "id": "643c3ddc-495e-42da-afe1-adea10fb66c0",
   "metadata": {
    "id": "643c3ddc-495e-42da-afe1-adea10fb66c0",
    "outputId": "e54299f5-c558-4d97-be8c-a2f466e0dd23",
    "scrolled": true
   },
   "outputs": [],
   "source": [
    "?LennardJones"
   ]
  },
  {
   "cell_type": "markdown",
   "id": "3b4df60d-e969-430a-a774-9f5c5d0d9292",
   "metadata": {
    "id": "3b4df60d-e969-430a-a774-9f5c5d0d9292"
   },
   "source": [
    "Take a moment to check out the documentation.  This is also available online in the [ASE documentation page](https://wiki.fysik.dtu.dk/ase/ase/calculators/others.html#lennard-jones)."
   ]
  },
  {
   "cell_type": "markdown",
   "id": "da01394d-6868-42bb-bf33-1a3d9f82c050",
   "metadata": {
    "id": "da01394d-6868-42bb-bf33-1a3d9f82c050"
   },
   "source": [
    "We will need to initialize it with a few parameters -- besides the cutoff radius, we need values for $\\varepsilon$ and $r_0$.  Let's use the values proposed in this publication: [J. A. White, _J. Chem. Phys._ **111**, 9352-9355 (1999)]().\n",
    "\n",
    "The proposed values are: $r_0 = 3.345\\,\\text{Å}$ and $\\varepsilon = 125.7 k_B$, where $k_B$ is Boltzmann's constant.\n",
    "\n",
    "But hang on -- we need to make sure to convert these to the units that ASE uses!  Luckily, ASE already uses Ångström for length units.  For the energy units, we just use the `ase.units` module to find the appropriate conversion:"
   ]
  },
  {
   "cell_type": "code",
   "execution_count": null,
   "id": "66740cb5-84e5-45d8-a140-43e26bab1885",
   "metadata": {
    "id": "66740cb5-84e5-45d8-a140-43e26bab1885",
    "outputId": "53975c53-c09c-462e-ea33-6d534c5cfeec"
   },
   "outputs": [],
   "source": [
    "ase.units.kB"
   ]
  },
  {
   "cell_type": "markdown",
   "id": "3288aa47-1ad9-496d-ae9f-0ce548f5158c",
   "metadata": {
    "id": "3288aa47-1ad9-496d-ae9f-0ce548f5158c"
   },
   "source": [
    "So, putting it together, we initialize the potential as follows:"
   ]
  },
  {
   "cell_type": "code",
   "execution_count": null,
   "id": "eca15fd5-e8e0-46a7-b84c-1445ca825a55",
   "metadata": {
    "id": "eca15fd5-e8e0-46a7-b84c-1445ca825a55"
   },
   "outputs": [],
   "source": [
    "lj_argon_calc = LennardJones(sigma=3.345, epsilon=125.7*ase.units.kB, rc=10.0, smooth=True)"
   ]
  },
  {
   "cell_type": "markdown",
   "id": "f78ad4e2-8638-45e3-b5b3-8c835f8ed822",
   "metadata": {
    "id": "f78ad4e2-8638-45e3-b5b3-8c835f8ed822"
   },
   "source": [
    "(I've somewhat arbitrarily chosen a cutoff radius of 10 Å here because that's the length of our cell.  You can play around with different cutoff values later, although be warned that the effect on the results can be quite subtle.)"
   ]
  },
  {
   "cell_type": "markdown",
   "id": "5ac853a4-01cf-4e8d-94ce-3686024f5a34",
   "metadata": {
    "id": "5ac853a4-01cf-4e8d-94ce-3686024f5a34"
   },
   "source": [
    "## Doing something with the potential"
   ]
  },
  {
   "cell_type": "markdown",
   "id": "8196af91-7109-4d56-b37f-65d3d11d6d0b",
   "metadata": {
    "id": "8196af91-7109-4d56-b37f-65d3d11d6d0b"
   },
   "source": [
    "Now that we've defined the potential, let's do something useful with it!  The simplest thing would be an energy minimization, where we try to find the structure that minimizes the energy of this potential energy surface.  Note that this structure will generally depend on the potential and its parameters!"
   ]
  },
  {
   "cell_type": "code",
   "execution_count": null,
   "id": "2dc398fe-f4f9-4683-bbdb-7ce7b56f9e31",
   "metadata": {
    "colab": {
     "base_uri": "https://localhost:8080/"
    },
    "id": "2dc398fe-f4f9-4683-bbdb-7ce7b56f9e31",
    "outputId": "8a6daa72-5395-4298-c694-4b9e72acb0a7"
   },
   "outputs": [],
   "source": [
    "starting_config.set_calculator(lj_argon_calc)"
   ]
  },
  {
   "cell_type": "code",
   "execution_count": null,
   "id": "c94324f3-77a2-4abf-99db-6d9c6c6dad6e",
   "metadata": {
    "id": "c94324f3-77a2-4abf-99db-6d9c6c6dad6e"
   },
   "outputs": [],
   "source": [
    "from ase.optimize import BFGS"
   ]
  },
  {
   "cell_type": "code",
   "execution_count": null,
   "id": "c86c5679-2fdb-452d-9c09-3b07a7fea259",
   "metadata": {
    "id": "c86c5679-2fdb-452d-9c09-3b07a7fea259"
   },
   "outputs": [],
   "source": [
    "from ase.filters import ExpCellFilter"
   ]
  },
  {
   "cell_type": "code",
   "execution_count": null,
   "id": "d54ed934-f7fe-475c-a576-9620a09947b3",
   "metadata": {
    "colab": {
     "base_uri": "https://localhost:8080/"
    },
    "id": "d54ed934-f7fe-475c-a576-9620a09947b3",
    "outputId": "26544954-52f7-4487-929f-34cad57aaa2f"
   },
   "outputs": [],
   "source": [
    "# Slightly annoying extra step we need in order to optimize the cell (volume) in addition to the positions\n",
    "atoms_cell = ExpCellFilter(starting_config, hydrostatic_strain=True)\n",
    "opt = BFGS(atoms_cell)\n",
    "opt.run(fmax=0.005)"
   ]
  },
  {
   "cell_type": "code",
   "execution_count": null,
   "id": "f97cc123-1c34-4cdc-8895-c76b696db110",
   "metadata": {
    "colab": {
     "base_uri": "https://localhost:8080/"
    },
    "id": "f97cc123-1c34-4cdc-8895-c76b696db110",
    "outputId": "05be52af-b56f-4331-fb12-88ff1366e763"
   },
   "outputs": [],
   "source": [
    "starting_config"
   ]
  },
  {
   "cell_type": "markdown",
   "id": "d50f509a-946f-4b16-89d5-19667d3d2f49",
   "metadata": {
    "id": "d50f509a-946f-4b16-89d5-19667d3d2f49"
   },
   "source": [
    "### Question"
   ]
  },
  {
   "cell_type": "markdown",
   "id": "6f726b79-bca1-4f77-b810-3da483e33526",
   "metadata": {
    "id": "6f726b79-bca1-4f77-b810-3da483e33526"
   },
   "source": [
    "What is the _cell parameter_ of the resulting, optimized structure?  How does it compare to the experimental value (for solid argon)?"
   ]
  },
  {
   "cell_type": "code",
   "execution_count": null,
   "id": "ha27iEXLau3G",
   "metadata": {
    "colab": {
     "base_uri": "https://localhost:8080/"
    },
    "id": "ha27iEXLau3G",
    "outputId": "413d41e7-4c39-4cac-cffa-4e06bacdda31"
   },
   "outputs": [],
   "source": [
    "starting_config.cell[0,0] / 2"
   ]
  },
  {
   "cell_type": "markdown",
   "id": "cf133ed5-f4f4-4641-b0c5-54e7883ad26a",
   "metadata": {
    "id": "cf133ed5-f4f4-4641-b0c5-54e7883ad26a"
   },
   "source": [
    "## Run dynamics"
   ]
  },
  {
   "cell_type": "markdown",
   "id": "0374ceaa-ab43-4a31-babc-56de4e6188b5",
   "metadata": {
    "id": "0374ceaa-ab43-4a31-babc-56de4e6188b5"
   },
   "source": [
    "Okay, now we get to the fun part!  Let's run some actual simulations and see the atoms move!"
   ]
  },
  {
   "cell_type": "code",
   "execution_count": null,
   "id": "e11c9e23-2045-4bee-a0aa-e662dd7a0dec",
   "metadata": {
    "id": "e11c9e23-2045-4bee-a0aa-e662dd7a0dec"
   },
   "outputs": [],
   "source": [
    "import ase.md"
   ]
  },
  {
   "cell_type": "markdown",
   "id": "ca81762f-8687-41ba-9871-878ac79f28bc",
   "metadata": {
    "id": "ca81762f-8687-41ba-9871-878ac79f28bc"
   },
   "source": [
    "First, we need an \"integrator\" that actually solves the equations of motion.  Velocity Verlet is a good choice:"
   ]
  },
  {
   "cell_type": "code",
   "execution_count": null,
   "id": "uJCubqoBin2B",
   "metadata": {
    "id": "uJCubqoBin2B"
   },
   "outputs": [],
   "source": [
    "from ase.md import MDLogger"
   ]
  },
  {
   "cell_type": "code",
   "execution_count": null,
   "id": "70fa5ca1-4d17-40f9-8c5e-8c27cbb641d3",
   "metadata": {
    "id": "70fa5ca1-4d17-40f9-8c5e-8c27cbb641d3"
   },
   "outputs": [],
   "source": [
    "vv = ase.md.VelocityVerlet(atoms=starting_config, timestep=1.0, trajectory='trial_traj.traj')\n",
    "vv.attach(MDLogger(vv, starting_config, 'md.log', header=True, stress=False,\n",
    "          peratom=False, mode=\"a\"), interval=1)"
   ]
  },
  {
   "cell_type": "markdown",
   "id": "5e43507d-807b-4521-b64f-48c9499a79f6",
   "metadata": {
    "id": "5e43507d-807b-4521-b64f-48c9499a79f6"
   },
   "source": [
    "And now we just run it for 50 timesteps and see what happens!"
   ]
  },
  {
   "cell_type": "code",
   "execution_count": null,
   "id": "d79ee2a1-ddf1-4234-b09a-bfbce7384ccf",
   "metadata": {
    "colab": {
     "base_uri": "https://localhost:8080/"
    },
    "id": "d79ee2a1-ddf1-4234-b09a-bfbce7384ccf",
    "outputId": "4d89ae58-0785-4dd6-8f58-2dd3cc2e97f5"
   },
   "outputs": [],
   "source": [
    "vv.run(50)"
   ]
  },
  {
   "cell_type": "markdown",
   "id": "8d4e3f35-7969-4f8d-989e-2b27d65aaeea",
   "metadata": {
    "id": "8d4e3f35-7969-4f8d-989e-2b27d65aaeea"
   },
   "source": [
    "Finally, try loading the output in the `ase gui` and see if we got anything..."
   ]
  },
  {
   "cell_type": "code",
   "execution_count": null,
   "id": "hMf8xMyLci4f",
   "metadata": {
    "id": "hMf8xMyLci4f"
   },
   "outputs": [],
   "source": [
    "traj = ase.io.read('trial_traj.xyz', '-50:')"
   ]
  },
  {
   "cell_type": "code",
   "execution_count": null,
   "id": "RUD-bNPJcoLe",
   "metadata": {
    "colab": {
     "base_uri": "https://localhost:8080/",
     "height": 317
    },
    "id": "RUD-bNPJcoLe",
    "outputId": "863ae2a7-46b2-4b75-97b9-dd676af2de7a"
   },
   "outputs": [],
   "source": [
    "view(traj[10], viewer='x3d')"
   ]
  },
  {
   "cell_type": "markdown",
   "id": "6eabd68d-a5b5-4814-aae0-68158f2363d8",
   "metadata": {
    "id": "6eabd68d-a5b5-4814-aae0-68158f2363d8"
   },
   "source": [
    "----\n",
    "SPOILER ALERT\n",
    "\n"
   ]
  },
  {
   "cell_type": "markdown",
   "id": "3133d6f5-6a4c-4daf-9ed8-732c11d524ae",
   "metadata": {
    "id": "3133d6f5-6a4c-4daf-9ed8-732c11d524ae"
   },
   "source": [
    "...nothing happened.  That's because we haven't initialized the _velocities_ on the atoms, so they're not moving!  Let's set them up with a nice initial, \"thermal\" velocity."
   ]
  },
  {
   "cell_type": "code",
   "execution_count": null,
   "id": "8fedc216-0757-4a17-9485-751dfb6e35cc",
   "metadata": {
    "id": "8fedc216-0757-4a17-9485-751dfb6e35cc"
   },
   "outputs": [],
   "source": [
    "from ase.md import velocitydistribution"
   ]
  },
  {
   "cell_type": "code",
   "execution_count": null,
   "id": "1b361dfb-8c71-4929-aaf8-19a3b39c18be",
   "metadata": {
    "id": "1b361dfb-8c71-4929-aaf8-19a3b39c18be"
   },
   "outputs": [],
   "source": [
    "velocitydistribution.MaxwellBoltzmannDistribution(starting_config, temperature_K=40)"
   ]
  },
  {
   "cell_type": "code",
   "execution_count": null,
   "id": "c6b18f3c-4019-4457-878e-07f145f6dc99",
   "metadata": {
    "colab": {
     "base_uri": "https://localhost:8080/"
    },
    "id": "c6b18f3c-4019-4457-878e-07f145f6dc99",
    "outputId": "ef1500f9-ab1a-4010-da71-eb3efc3e1f7a"
   },
   "outputs": [],
   "source": [
    "vv.run(50)"
   ]
  },
  {
   "cell_type": "code",
   "execution_count": null,
   "id": "RVtuEPy_d315",
   "metadata": {
    "id": "RVtuEPy_d315"
   },
   "outputs": [],
   "source": [
    "import numpy as np"
   ]
  },
  {
   "cell_type": "code",
   "execution_count": null,
   "id": "uqCUDK29dm9d",
   "metadata": {
    "id": "uqCUDK29dm9d"
   },
   "outputs": [],
   "source": [
    "md_log = np.loadtxt('md.log', skiprows=52)"
   ]
  },
  {
   "cell_type": "code",
   "execution_count": null,
   "id": "qQV8Ai1Jd290",
   "metadata": {
    "colab": {
     "base_uri": "https://localhost:8080/"
    },
    "id": "qQV8Ai1Jd290",
    "outputId": "9ee47e80-f9e1-4369-f307-f8e3569b8d14"
   },
   "outputs": [],
   "source": [
    "md_log"
   ]
  },
  {
   "cell_type": "code",
   "execution_count": null,
   "id": "7JeLh7CPd6mM",
   "metadata": {
    "id": "7JeLh7CPd6mM"
   },
   "outputs": [],
   "source": [
    "time, e_tot, e_pot, e_kin, T = md_log.T"
   ]
  },
  {
   "cell_type": "code",
   "execution_count": null,
   "id": "xvaKSk8HeJPu",
   "metadata": {
    "id": "xvaKSk8HeJPu"
   },
   "outputs": [],
   "source": [
    "from matplotlib import pyplot as plt"
   ]
  },
  {
   "cell_type": "code",
   "execution_count": null,
   "id": "tc46Tfa-eFc6",
   "metadata": {
    "colab": {
     "base_uri": "https://localhost:8080/",
     "height": 468
    },
    "id": "tc46Tfa-eFc6",
    "outputId": "0674f7cc-c028-41e7-91ed-38df261e652e"
   },
   "outputs": [],
   "source": [
    "plt.plot(time, e_pot, c='C0', label='Potential energy')\n",
    "plt.plot(time, e_kin, c='C1', label='Kinetic energy')\n",
    "plt.plot(time, e_tot, c='k', label='Total energy')\n",
    "plt.legend()\n",
    "plt.xlabel('Time / ps')\n",
    "plt.ylabel('Energy / eV')"
   ]
  },
  {
   "cell_type": "code",
   "execution_count": null,
   "id": "U8gIrq-ceIiH",
   "metadata": {
    "colab": {
     "base_uri": "https://localhost:8080/",
     "height": 468
    },
    "id": "U8gIrq-ceIiH",
    "outputId": "e2f108f6-6751-4b6c-e0c9-e1e385a8850e"
   },
   "outputs": [],
   "source": [
    "plt.plot(time, T)\n",
    "plt.xlabel('Time / ps')\n",
    "plt.ylabel('Temperature / K')"
   ]
  },
  {
   "cell_type": "markdown",
   "id": "Ic6CjkDZgBTO",
   "metadata": {
    "id": "Ic6CjkDZgBTO"
   },
   "source": [
    "## Constant-temperature dynamics with the NVT ensemble"
   ]
  },
  {
   "cell_type": "code",
   "execution_count": null,
   "id": "95cuGwWJfQim",
   "metadata": {
    "id": "95cuGwWJfQim"
   },
   "outputs": [],
   "source": [
    "nvt = ase.md.Langevin(atoms=starting_config, timestep=1.0, trajectory='traj_nvt.traj',\n",
    "                      temperature_K=200, friction=0.1 / ase.units.fs)"
   ]
  },
  {
   "cell_type": "code",
   "execution_count": null,
   "id": "R1t8SVNugmqb",
   "metadata": {
    "id": "R1t8SVNugmqb"
   },
   "outputs": [],
   "source": [
    "nvt.attach(MDLogger(nvt, starting_config, 'md_nvt.log', header=True, stress=True,\n",
    "           peratom=False, mode=\"w\"), interval=10)"
   ]
  },
  {
   "cell_type": "code",
   "execution_count": null,
   "id": "WJan165Ng04w",
   "metadata": {
    "colab": {
     "base_uri": "https://localhost:8080/"
    },
    "id": "WJan165Ng04w",
    "outputId": "041aa80b-49df-4b12-9d77-0dcb30c5e696"
   },
   "outputs": [],
   "source": [
    "nvt.run(500)"
   ]
  },
  {
   "cell_type": "code",
   "execution_count": null,
   "id": "xyM1kCRei3o7",
   "metadata": {
    "colab": {
     "base_uri": "https://localhost:8080/"
    },
    "id": "xyM1kCRei3o7",
    "outputId": "ba6d59fd-7c96-4885-f55e-d0a7ef276eba"
   },
   "outputs": [],
   "source": [
    "starting_config"
   ]
  },
  {
   "cell_type": "code",
   "execution_count": null,
   "id": "SJ0YSaw2hU-W",
   "metadata": {
    "id": "SJ0YSaw2hU-W"
   },
   "outputs": [],
   "source": [
    "md_log_nvt = np.loadtxt('md_nvt.log', skiprows=1)"
   ]
  },
  {
   "cell_type": "code",
   "execution_count": null,
   "id": "CGFvBa6cha4l",
   "metadata": {
    "id": "CGFvBa6cha4l"
   },
   "outputs": [],
   "source": [
    "time, e_tot, e_pot, e_kin, T = md_log_nvt.T[:5]"
   ]
  },
  {
   "cell_type": "code",
   "execution_count": null,
   "id": "78083fbc-98d9-4dd2-81f4-0504e313b7a3",
   "metadata": {},
   "outputs": [],
   "source": [
    "stress_components = md_log_nvt.T[5:]"
   ]
  },
  {
   "cell_type": "code",
   "execution_count": null,
   "id": "Q2Ci-T6Nhf0F",
   "metadata": {
    "colab": {
     "base_uri": "https://localhost:8080/",
     "height": 468
    },
    "id": "Q2Ci-T6Nhf0F",
    "outputId": "af8390a6-6dee-4f9e-bc4f-15aa362101b4"
   },
   "outputs": [],
   "source": [
    "plt.plot(time, e_pot, c='C0', label='Potential energy')\n",
    "plt.plot(time, e_kin, c='C1', label='Kinetic energy')\n",
    "plt.plot(time, e_tot, c='k', label='Total energy')\n",
    "plt.legend()\n",
    "plt.xlabel('Time / ps')\n",
    "plt.ylabel('Energy / eV')"
   ]
  },
  {
   "cell_type": "code",
   "execution_count": null,
   "id": "bGU5z4E2hjrl",
   "metadata": {
    "colab": {
     "base_uri": "https://localhost:8080/",
     "height": 468
    },
    "id": "bGU5z4E2hjrl",
    "outputId": "8cf6cc75-fcd7-4f43-a02c-fd4f2cfb2f6b"
   },
   "outputs": [],
   "source": [
    "plt.plot(time, T)\n",
    "plt.xlabel('Time / ps')\n",
    "plt.ylabel('Temperature / K')"
   ]
  },
  {
   "cell_type": "code",
   "execution_count": null,
   "id": "5534470c-903c-4b3d-9b6f-dc1ce453a1ca",
   "metadata": {},
   "outputs": [],
   "source": [
    "pressure = -1.0 / 3 * np.sum(stress_components[:3], axis=0)\n",
    "plt.plot(time, pressure)\n",
    "plt.xlabel('Time / ps')\n",
    "plt.ylabel('Pressure / GPa')"
   ]
  },
  {
   "cell_type": "markdown",
   "id": "EjGQaJmzmmkn",
   "metadata": {
    "id": "EjGQaJmzmmkn"
   },
   "source": [
    "## Constant pressure and temperature (NPT)"
   ]
  },
  {
   "cell_type": "markdown",
   "id": "64cdfe1a-e8ed-433c-865c-40ff201dfdcb",
   "metadata": {},
   "source": [
    "First, let's reset the starting configuration..."
   ]
  },
  {
   "cell_type": "code",
   "execution_count": null,
   "id": "896d3b13-90b2-48ba-ad85-29ac2cf537cd",
   "metadata": {},
   "outputs": [],
   "source": [
    "starting_config = ase.io.read('starting_config.xyz')"
   ]
  },
  {
   "cell_type": "code",
   "execution_count": null,
   "id": "e1ae47c0-b2b8-4996-bbe1-a076a210244f",
   "metadata": {
    "id": "eca15fd5-e8e0-46a7-b84c-1445ca825a55"
   },
   "outputs": [],
   "source": [
    "lj_argon_calc = LennardJones(sigma=3.345, epsilon=125.7*ase.units.kB, rc=10.0, smooth=True)"
   ]
  },
  {
   "cell_type": "code",
   "execution_count": null,
   "id": "1c0a4ddb-efb3-4c7e-84bd-2b8356d72d6b",
   "metadata": {},
   "outputs": [],
   "source": [
    "starting_config.calc = lj_argon_calc"
   ]
  },
  {
   "cell_type": "code",
   "execution_count": null,
   "id": "sBLWEcavmzMd",
   "metadata": {
    "id": "sBLWEcavmzMd"
   },
   "outputs": [],
   "source": [
    "from ase.md.nptberendsen import NPTBerendsen"
   ]
  },
  {
   "cell_type": "markdown",
   "id": "73e137b3-f11b-477a-97cd-22df9656088e",
   "metadata": {},
   "source": [
    "Now, we need the compressibility to determine good parameters for the barostat.  We might not have direct measurements of the compressibility, but we can derive it from the speed of sound.\n",
    "\n",
    "The CRC handbook says the speed of sound in liquid argon at the boiling point, about 83 K, is 838.3 m/s (and the NIST tables agree).  So let's use that and hope it doesn't change too much when we get to the solid phase.  (We don't have to be _too_ exact here, it's just to set the timescale of the barostat.)"
   ]
  },
  {
   "cell_type": "code",
   "execution_count": null,
   "id": "04898cd7-22b2-4a1e-a5c4-b103e774848e",
   "metadata": {},
   "outputs": [],
   "source": [
    "vsound_aunits = 840 * ase.units.m / ase.units.s"
   ]
  },
  {
   "cell_type": "code",
   "execution_count": null,
   "id": "5d58f992-3a5f-4da6-a80b-b4ad3b62bff1",
   "metadata": {},
   "outputs": [],
   "source": [
    "vsound_aunits"
   ]
  },
  {
   "cell_type": "code",
   "execution_count": null,
   "id": "6ea4a4ef-8d2d-4fb3-83a7-89282cd51eaa",
   "metadata": {},
   "outputs": [],
   "source": [
    "ase.units.Ang"
   ]
  },
  {
   "cell_type": "code",
   "execution_count": null,
   "id": "39bc9d2c-498d-42fe-89a8-2e60362b79fa",
   "metadata": {},
   "outputs": [],
   "source": [
    "den_aunits = np.sum(starting_config.get_masses()) / starting_config.get_volume()"
   ]
  },
  {
   "cell_type": "code",
   "execution_count": null,
   "id": "81fb74c2-171e-4707-9368-bf7999f3ab6f",
   "metadata": {},
   "outputs": [],
   "source": [
    "den_aunits"
   ]
  },
  {
   "cell_type": "code",
   "execution_count": null,
   "id": "a4f29ab2-3426-4d21-a587-ec0fc00d7633",
   "metadata": {},
   "outputs": [],
   "source": [
    "# Compressibility is one over the bulk modulus, which is the speed of sound squared times the density\n",
    "comp_aunits = 1.0 / (vsound_aunits**2 * den_aunits)"
   ]
  },
  {
   "cell_type": "code",
   "execution_count": null,
   "id": "de25fee6-33e5-4108-9881-1168f5ae241f",
   "metadata": {},
   "outputs": [],
   "source": [
    "comp_aunits"
   ]
  },
  {
   "cell_type": "code",
   "execution_count": null,
   "id": "f91aabdd-30a4-46c1-ac50-a931872a3ce0",
   "metadata": {
    "id": "1b361dfb-8c71-4929-aaf8-19a3b39c18be"
   },
   "outputs": [],
   "source": [
    "velocitydistribution.MaxwellBoltzmannDistribution(starting_config, temperature_K=120)"
   ]
  },
  {
   "cell_type": "code",
   "execution_count": null,
   "id": "7hJh6lmthp8H",
   "metadata": {
    "id": "7hJh6lmthp8H"
   },
   "outputs": [],
   "source": [
    "npt = NPTBerendsen(atoms=starting_config, timestep=1.0, trajectory='traj_npt.traj', loginterval=10,\n",
    "                   pressure_au=1*ase.units.bar, temperature_K=120,\n",
    "                   taut=100*ase.units.fs, taup=500*ase.units.fs, compressibility_au=comp_aunits)"
   ]
  },
  {
   "cell_type": "code",
   "execution_count": null,
   "id": "mNzccoFfnOah",
   "metadata": {
    "id": "mNzccoFfnOah"
   },
   "outputs": [],
   "source": [
    "npt.attach(MDLogger(npt, starting_config, 'md_npt.log', header=True, stress=True,\n",
    "           peratom=False, mode=\"w\"), interval=10)"
   ]
  },
  {
   "cell_type": "code",
   "execution_count": null,
   "id": "84nKJAEfnVj6",
   "metadata": {
    "colab": {
     "base_uri": "https://localhost:8080/",
     "height": 433
    },
    "id": "84nKJAEfnVj6",
    "outputId": "4c0974d7-4ff0-45f1-f45d-d9159b2bb9be"
   },
   "outputs": [],
   "source": [
    "npt.run(2000)"
   ]
  },
  {
   "cell_type": "code",
   "execution_count": null,
   "id": "245a21a6-61be-4362-bd94-b543d8bda4f7",
   "metadata": {
    "id": "SJ0YSaw2hU-W"
   },
   "outputs": [],
   "source": [
    "md_log_npt = np.loadtxt('md_npt.log', skiprows=1)"
   ]
  },
  {
   "cell_type": "code",
   "execution_count": null,
   "id": "58507de1-f01f-4e91-99c4-9a715f885721",
   "metadata": {
    "id": "CGFvBa6cha4l"
   },
   "outputs": [],
   "source": [
    "time, e_tot, e_pot, e_kin, T = md_log_npt.T[:5]"
   ]
  },
  {
   "cell_type": "code",
   "execution_count": null,
   "id": "b5111552-d8b7-4f54-ab30-629e5834482e",
   "metadata": {},
   "outputs": [],
   "source": [
    "stress_components = md_log_npt.T[5:]"
   ]
  },
  {
   "cell_type": "code",
   "execution_count": null,
   "id": "9ef80162-9cd2-42bd-9c07-345fe9c4d310",
   "metadata": {
    "colab": {
     "base_uri": "https://localhost:8080/",
     "height": 468
    },
    "id": "Q2Ci-T6Nhf0F",
    "outputId": "af8390a6-6dee-4f9e-bc4f-15aa362101b4"
   },
   "outputs": [],
   "source": [
    "plt.plot(time, e_pot, c='C0', label='Potential energy')\n",
    "plt.plot(time, e_kin, c='C1', label='Kinetic energy')\n",
    "plt.plot(time, e_tot, c='k', label='Total energy')\n",
    "plt.legend()\n",
    "plt.xlabel('Time / ps')\n",
    "plt.ylabel('Energy / eV')"
   ]
  },
  {
   "cell_type": "code",
   "execution_count": null,
   "id": "6cdf651b-2a76-45f9-9130-04823c22da36",
   "metadata": {
    "colab": {
     "base_uri": "https://localhost:8080/",
     "height": 468
    },
    "id": "bGU5z4E2hjrl",
    "outputId": "8cf6cc75-fcd7-4f43-a02c-fd4f2cfb2f6b"
   },
   "outputs": [],
   "source": [
    "plt.plot(time, T)\n",
    "plt.xlabel('Time / ps')\n",
    "plt.ylabel('Temperature / K')"
   ]
  },
  {
   "cell_type": "code",
   "execution_count": null,
   "id": "c1320143-2a6b-4fd6-bd87-840ee97d2fd4",
   "metadata": {},
   "outputs": [],
   "source": [
    "pressure = -1.0 / 3 * np.sum(stress_components[:3], axis=0)\n",
    "plt.plot(time, pressure)\n",
    "plt.xlabel('Time / ps')\n",
    "plt.ylabel('Pressure / GPa')"
   ]
  },
  {
   "cell_type": "code",
   "execution_count": null,
   "id": "faaabae6-3ae0-4840-b957-2dc759e2828b",
   "metadata": {},
   "outputs": [],
   "source": [
    "npt_traj = ase.io.read('traj_npt.traj', ':')"
   ]
  },
  {
   "cell_type": "code",
   "execution_count": null,
   "id": "c9e85433-400e-4ec6-8593-934df2bc13e2",
   "metadata": {},
   "outputs": [],
   "source": [
    "cell_volumes = np.array([frame.get_volume() for frame in npt_traj])"
   ]
  },
  {
   "cell_type": "code",
   "execution_count": null,
   "id": "ae8edd7e-b1eb-46bc-8e93-7bfb0c8b5a46",
   "metadata": {},
   "outputs": [],
   "source": [
    "plt.plot(time, cell_volumes)\n",
    "plt.xlabel('Time / ps')\n",
    "plt.ylabel('Cell volume / Å^3')"
   ]
  },
  {
   "cell_type": "markdown",
   "id": "ca39c684-bd5b-4537-a901-c76621ec07d1",
   "metadata": {},
   "source": [
    "### Questions"
   ]
  },
  {
   "cell_type": "markdown",
   "id": "939bf41e-0d50-4afd-8205-6bebf64a3602",
   "metadata": {},
   "source": [
    "Please record your answers in this notebook by creating new cells below.\n",
    " \n",
    " - Is the simulation _equilibrated_ after this initial runtime of about 50 ps?  If not, adjust the runtime (in `run()` above) and run it longer.\n",
    " - What is the _density_ that the Lennard-Jones potential (with the given parameters) predicts for these conditions?  Is this realistic?  Why / why not?  _(Note: You may find it useful to use `ase.units` to convert the density into units you are more familiar with)_\n",
    " - Find an experimental reference for the density of liquid argon under similar conditions.  How good is the agreement?"
   ]
  },
  {
   "cell_type": "markdown",
   "id": "5ea92fd9-2989-453d-a094-3bfa19deab86",
   "metadata": {},
   "source": [
    "### Task"
   ]
  },
  {
   "cell_type": "markdown",
   "id": "31cdf93a-9155-49b1-acc9-12b86759acfd",
   "metadata": {},
   "source": [
    "Keep increasing the temperature of the thermostat until the system enters the gas phase.  (How do you know?)\n",
    "\n",
    "At what temperature does this happen?  See if you can pin down the phase transition temperature to within 10 K or so.\n",
    "\n",
    "**Question**: Does this agree with the phase transition (vaporization) temperature from the reference literature?  If not, how bad is the disagreement?  Discuss with someone next to you what the possible sources of such a disagreement could be."
   ]
  },
  {
   "cell_type": "markdown",
   "id": "b83ba450-b9a1-40b6-97a5-ea93f3014708",
   "metadata": {},
   "source": [
    "## Diffusion coefficient"
   ]
  },
  {
   "cell_type": "markdown",
   "id": "dcc72d7a-5a0e-48a4-8a89-b21c7f9b3175",
   "metadata": {},
   "source": [
    "Now, let's return to the liquid-phase simulation at 120 K, 1 bar, using the potential we had before."
   ]
  },
  {
   "cell_type": "code",
   "execution_count": null,
   "id": "db498cb5-6c58-4f73-96b2-1421f476e77c",
   "metadata": {},
   "outputs": [],
   "source": [
    "starting_config = ase.io.read('starting_config.xyz')"
   ]
  },
  {
   "cell_type": "code",
   "execution_count": null,
   "id": "86b16538-dac2-4892-858e-4880e52392c2",
   "metadata": {
    "id": "eca15fd5-e8e0-46a7-b84c-1445ca825a55"
   },
   "outputs": [],
   "source": [
    "lj_argon_calc = LennardJones(sigma=3.345, epsilon=125.7*ase.units.kB, rc=10.0, smooth=True)"
   ]
  },
  {
   "cell_type": "code",
   "execution_count": null,
   "id": "83625f9f-d91b-400b-81ed-351541f3b2f8",
   "metadata": {},
   "outputs": [],
   "source": [
    "starting_config.calc = lj_argon_calc"
   ]
  },
  {
   "cell_type": "markdown",
   "id": "8d798daa-abd1-4fe3-9987-e1a7666c7476",
   "metadata": {},
   "source": [
    "And let's again run an NPT simulation to _equilibrate_ the system to the given thermodynamic conditions.  We will later _turn off_ the thermostat and barostat to avoid interfering with the detailed dynamical correlations that determine the diffusion coefficient."
   ]
  },
  {
   "cell_type": "code",
   "execution_count": null,
   "id": "63a1941e-9df6-4678-92e7-50279b227c44",
   "metadata": {
    "id": "1b361dfb-8c71-4929-aaf8-19a3b39c18be"
   },
   "outputs": [],
   "source": [
    "velocitydistribution.MaxwellBoltzmannDistribution(starting_config, temperature_K=85)"
   ]
  },
  {
   "cell_type": "code",
   "execution_count": null,
   "id": "27197c37-6eb0-4d6e-9249-8d1ddb27d845",
   "metadata": {
    "id": "7hJh6lmthp8H"
   },
   "outputs": [],
   "source": [
    "npt = NPTBerendsen(atoms=starting_config, timestep=1.0, trajectory='traj_diff_eq.traj', loginterval=10,\n",
    "                   pressure_au=1*ase.units.bar, temperature_K=85,\n",
    "                   taut=100*ase.units.fs, taup=500*ase.units.fs, compressibility_au=comp_aunits)"
   ]
  },
  {
   "cell_type": "code",
   "execution_count": null,
   "id": "62091da7-a3b4-4a01-bf4e-d49d152e0e93",
   "metadata": {
    "id": "mNzccoFfnOah"
   },
   "outputs": [],
   "source": [
    "npt.attach(MDLogger(npt, starting_config, 'md_diff_eq.log', header=True, stress=True,\n",
    "           peratom=False, mode=\"w\"), interval=10)"
   ]
  },
  {
   "cell_type": "code",
   "execution_count": null,
   "id": "2a1c839e-5315-463d-9550-f7493dfc9237",
   "metadata": {},
   "outputs": [],
   "source": [
    "npt.run(2000)"
   ]
  },
  {
   "cell_type": "markdown",
   "id": "0cd4b171-6044-4ba1-ad97-38ac8d66bbc6",
   "metadata": {},
   "source": [
    "Check we've equilibrated:"
   ]
  },
  {
   "cell_type": "code",
   "execution_count": null,
   "id": "21e10039-90df-493f-a74b-bcfb32e366e2",
   "metadata": {
    "id": "SJ0YSaw2hU-W"
   },
   "outputs": [],
   "source": [
    "md_log_npt = np.loadtxt('md_diff_eq.log', skiprows=1)"
   ]
  },
  {
   "cell_type": "code",
   "execution_count": null,
   "id": "7978bc72-9ad5-4b02-9a9a-81cb6a708519",
   "metadata": {
    "id": "CGFvBa6cha4l"
   },
   "outputs": [],
   "source": [
    "time, e_tot, e_pot, e_kin, T = md_log_npt.T[:5]"
   ]
  },
  {
   "cell_type": "code",
   "execution_count": null,
   "id": "be2ba7d1-62a6-42e3-8e24-1d18baf88045",
   "metadata": {},
   "outputs": [],
   "source": [
    "stress_components = md_log_npt.T[5:]"
   ]
  },
  {
   "cell_type": "code",
   "execution_count": null,
   "id": "3cdcfd0b-e895-471b-b56a-446b1b4567e2",
   "metadata": {
    "colab": {
     "base_uri": "https://localhost:8080/",
     "height": 468
    },
    "id": "Q2Ci-T6Nhf0F",
    "outputId": "af8390a6-6dee-4f9e-bc4f-15aa362101b4"
   },
   "outputs": [],
   "source": [
    "plt.plot(time, e_pot, c='C0', label='Potential energy')\n",
    "plt.plot(time, e_kin, c='C1', label='Kinetic energy')\n",
    "plt.plot(time, e_tot, c='k', label='Total energy')\n",
    "plt.legend()\n",
    "plt.xlabel('Time / ps')\n",
    "plt.ylabel('Energy / eV')"
   ]
  },
  {
   "cell_type": "code",
   "execution_count": null,
   "id": "8841a4f0-2fb1-4850-b176-a5a094c2093f",
   "metadata": {},
   "outputs": [],
   "source": [
    "plt.plot(time, T)"
   ]
  },
  {
   "cell_type": "code",
   "execution_count": null,
   "id": "b6db41a1-3343-4bcc-8805-516d6782467d",
   "metadata": {},
   "outputs": [],
   "source": [
    "eq_traj = ase.io.read('traj_diff_eq.traj', ':')"
   ]
  },
  {
   "cell_type": "code",
   "execution_count": null,
   "id": "a1667e55-341e-4488-896e-4d9c0bd4dd01",
   "metadata": {},
   "outputs": [],
   "source": [
    "cell_volumes = np.array([frame.get_volume() for frame in npt_traj])"
   ]
  },
  {
   "cell_type": "code",
   "execution_count": null,
   "id": "17b1ea40-d6cf-4b44-92b4-6020318ce498",
   "metadata": {},
   "outputs": [],
   "source": [
    "plt.plot(time, cell_volumes[:201])\n",
    "plt.xlabel('Time / ps')\n",
    "plt.ylabel('Cell volume / Å^3')"
   ]
  },
  {
   "cell_type": "markdown",
   "id": "174ece0b-bc5d-478e-ae1f-996a97a06e8f",
   "metadata": {},
   "source": [
    "And now we need to run an NVE simulation with our old friend, Velocity Verlet:"
   ]
  },
  {
   "cell_type": "code",
   "execution_count": null,
   "id": "2067a2c1-dabd-4526-9aa8-a633bc81861c",
   "metadata": {
    "id": "70fa5ca1-4d17-40f9-8c5e-8c27cbb641d3"
   },
   "outputs": [],
   "source": [
    "vv = ase.md.VelocityVerlet(atoms=starting_config, timestep=1.0, trajectory='diff_traj.traj')\n",
    "vv.attach(MDLogger(vv, starting_config, 'diff_md.log', header=True, stress=False,\n",
    "          peratom=False, mode=\"a\"), interval=10)"
   ]
  },
  {
   "cell_type": "markdown",
   "id": "94f67d15-bb5b-47b5-86dc-b11873fc44b0",
   "metadata": {
    "id": "5e43507d-807b-4521-b64f-48c9499a79f6"
   },
   "source": [
    "Let's run it for about the same amount of time:"
   ]
  },
  {
   "cell_type": "code",
   "execution_count": null,
   "id": "53cdda69-5792-4354-85b2-8a474e58f4c5",
   "metadata": {
    "colab": {
     "base_uri": "https://localhost:8080/"
    },
    "id": "d79ee2a1-ddf1-4234-b09a-bfbce7384ccf",
    "outputId": "4d89ae58-0785-4dd6-8f58-2dd3cc2e97f5"
   },
   "outputs": [],
   "source": [
    "vv.run(5000)"
   ]
  },
  {
   "cell_type": "markdown",
   "id": "1cc7601c-7150-4669-ac58-1a47b0d502b2",
   "metadata": {},
   "source": [
    "### Task"
   ]
  },
  {
   "cell_type": "markdown",
   "id": "b6f56945-ff77-4db6-abb7-11e3cf2867cf",
   "metadata": {},
   "source": [
    "Load the trajectory from the file and _write a program_ to compute the mean squared displacement from the atomic positions.\n",
    "\n",
    "You may wish to start with only one atom, and track its mean squared displacement in all three dimensions, then sum them up to get the MSD for that atom only.  Then, you'll want to average this over all the atoms.\n",
    "\n",
    "Plot the MSD against time.  Do you see a linear trend?  Try to figure out its slope.\n",
    "\n",
    "Next, try to find an experimental value for the diffusion coefficient in liquid argon.  Is the value you computed close?"
   ]
  },
  {
   "cell_type": "code",
   "execution_count": null,
   "id": "2453697c-872a-439f-9e80-b988010155dc",
   "metadata": {},
   "outputs": [],
   "source": []
  }
 ],
 "metadata": {
  "colab": {
   "provenance": []
  },
  "kernelspec": {
   "display_name": "Python 3 (ipykernel)",
   "language": "python",
   "name": "python3"
  },
  "language_info": {
   "codemirror_mode": {
    "name": "ipython",
    "version": 3
   },
   "file_extension": ".py",
   "mimetype": "text/x-python",
   "name": "python",
   "nbconvert_exporter": "python",
   "pygments_lexer": "ipython3",
   "version": "3.13.3"
  }
 },
 "nbformat": 4,
 "nbformat_minor": 5
}
