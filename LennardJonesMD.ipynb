{
 "cells": [
  {
   "cell_type": "markdown",
   "id": "4cffbeb9-fb1c-4850-9ce7-a33c51224158",
   "metadata": {},
   "source": [
    "# Molecular dynamics simulations with the Lennard-Jones potential"
   ]
  },
  {
   "cell_type": "markdown",
   "id": "d04bb615-cd24-4404-9814-70d9e9cdad16",
   "metadata": {},
   "source": [
    "## Setup"
   ]
  },
  {
   "cell_type": "markdown",
   "id": "8af71a98-b6f5-4f78-8e2a-1c1394225a59",
   "metadata": {},
   "source": [
    "The first thing you will need to do is install the [ASE package](https://wiki.fysik.dtu.dk/ase/) (for Atomic Simulation Environment).  First, make sure you are in the correct Python virtual environment.  If you have been installing packages with `pip`, you can just run:\n",
    "\n",
    "    pip install ase\n",
    "\n",
    "and it should install it into the correct environment.  Make sure it works by running the cell below:"
   ]
  },
  {
   "cell_type": "code",
   "execution_count": 1,
   "id": "5d84673b-6c13-455f-b0b9-61eec0d73618",
   "metadata": {},
   "outputs": [],
   "source": [
    "import ase"
   ]
  },
  {
   "cell_type": "markdown",
   "id": "3e1d028a-0db5-4ec8-83ae-4bf2de26f528",
   "metadata": {},
   "source": [
    "If you get errors at this stage, please ask for help."
   ]
  },
  {
   "cell_type": "markdown",
   "id": "02a10a9b-696a-4fc9-92ad-7cf0ffbda7a2",
   "metadata": {},
   "source": [
    "**Note for Anaconda/conda users**: The ASE package is not available through Anaconda's default distribution channels.  It is, however, available from [conda-forge](https://conda-forge.org/packages/).  You can use the following installation command (again, make sure you are in the correct environment):\n",
    "\n",
    "    conda install -c conda-forge --strict-channel-priority ase\n",
    "\n",
    "and try the `import` command above."
   ]
  },
  {
   "cell_type": "markdown",
   "id": "10c00791-608f-4c41-829c-16bb24375890",
   "metadata": {},
   "source": [
    "### Other imports"
   ]
  },
  {
   "cell_type": "code",
   "execution_count": 2,
   "id": "688a6973-aa4c-4005-8021-efe66e91c6bd",
   "metadata": {},
   "outputs": [],
   "source": [
    "import numpy as np\n",
    "from matplotlib import pyplot as plt"
   ]
  },
  {
   "cell_type": "markdown",
   "id": "b4b44613-2930-4641-9403-38101d8467c4",
   "metadata": {},
   "source": [
    "### Viewing atomic structures"
   ]
  },
  {
   "cell_type": "markdown",
   "id": "e8724542-7d37-4db9-8292-1a5355ac4ac4",
   "metadata": {},
   "source": [
    "It is important that we visualize atomic structures and their evolution in time, so that we can _see_ the (qualitative) behaviour of a system.  ASE provides a few ways to do this.  The most full-featured and user-friendly one is the [ASE GUI](https://wiki.fysik.dtu.dk/ase/ase/gui/gui.html), accessible from the command line with:\n",
    "\n",
    "    ase gui <structure_file.xyz>\n",
    "\n",
    "where `<structure_file.xyz>` is a file containing the structures you want to view."
   ]
  },
  {
   "cell_type": "markdown",
   "id": "a94b7e9f-4196-407f-9376-c7e87c5647ba",
   "metadata": {},
   "source": [
    "You can also view structures directly in the notebook environment.  This can be very useful for quick checking of structures without interrupting your workflow.  To do this, you first have to import ASE's `view()` function:"
   ]
  },
  {
   "cell_type": "code",
   "execution_count": 12,
   "id": "302491f6-68dc-40a0-97e5-b7fcd8851bc8",
   "metadata": {},
   "outputs": [],
   "source": [
    "from ase.visualize import view"
   ]
  },
  {
   "cell_type": "markdown",
   "id": "c799b602-89e9-4617-b7b0-d4b6cb22afea",
   "metadata": {},
   "source": [
    "Now, if you just call `view(structure)` on an atomic structure, you will see a visualization directly in the notebook.  Note that this visualization is still a bit basic; you can get more features by installing the `nglview` plugin:\n",
    "\n",
    "    pip install nglview\n",
    "or\n",
    "\n",
    "    conda install -c conda-forge --strict-channel-priority nglview\n",
    "\n",
    "You can now call the viewer function like: `view(structure, viewer='ngl')` and you will get a more interactive structure viewer.  Try it out below!"
   ]
  },
  {
   "cell_type": "markdown",
   "id": "b902334d-d7d0-47c5-b0ce-fdad62e60a12",
   "metadata": {},
   "source": [
    "## Initial configuration"
   ]
  },
  {
   "cell_type": "markdown",
   "id": "e7e75b30-fcab-497e-83dd-a2d6ac483aa4",
   "metadata": {},
   "source": [
    "Let's start with an _initial configuration_ of atoms.  I've prepared a starting structure (a crystal of 32 Ar atoms in the FCC close-packed configuration) using the code below, but you can just load the structure from the file included with this tutorial."
   ]
  },
  {
   "cell_type": "code",
   "execution_count": 6,
   "id": "571a58a5-f675-415b-8480-28995c433bea",
   "metadata": {},
   "outputs": [],
   "source": [
    "from ase.build import bulk, make_supercell\n",
    "starting_unit = bulk('Ar', 'fcc', a=5.0, cubic=True)\n",
    "starting_config = make_supercell(starting_unit, 2*np.eye(3, dtype=int))"
   ]
  },
  {
   "cell_type": "code",
   "execution_count": 14,
   "id": "ae452f26-6848-45aa-8a3a-ece953a6b85f",
   "metadata": {},
   "outputs": [],
   "source": [
    "import ase.io"
   ]
  },
  {
   "cell_type": "code",
   "execution_count": 15,
   "id": "260867ac-903d-48cc-a1cf-fdcced4a31cd",
   "metadata": {},
   "outputs": [],
   "source": [
    "ase.io.write('starting_config.xyz', starting_config)"
   ]
  },
  {
   "cell_type": "markdown",
   "id": "523d44ee-a484-4661-be60-c1f52788a70f",
   "metadata": {},
   "source": [
    "----"
   ]
  },
  {
   "cell_type": "code",
   "execution_count": 16,
   "id": "834cdc8b-72ed-4fcb-bfc7-298b8bb4ee6b",
   "metadata": {},
   "outputs": [],
   "source": [
    "starting_config = ase.io.read('starting_config.xyz')"
   ]
  },
  {
   "cell_type": "code",
   "execution_count": 17,
   "id": "e8a20942-d25b-4ba1-89bf-d08844319ce0",
   "metadata": {},
   "outputs": [
    {
     "data": {
      "application/vnd.jupyter.widget-view+json": {
       "model_id": "43a8b6527e1745eaa512bd53c0a9af4e",
       "version_major": 2,
       "version_minor": 0
      },
      "text/plain": [
       "HBox(children=(NGLWidget(), VBox(children=(Dropdown(description='Show', options=('All', 'Ar'), value='All'), D…"
      ]
     },
     "execution_count": 17,
     "metadata": {},
     "output_type": "execute_result"
    }
   ],
   "source": [
    "# Note: This may not work if you haven't gotten nglview installed or configured correctly\n",
    "view(starting_config, viewer='ngl')"
   ]
  },
  {
   "cell_type": "markdown",
   "id": "c94e4b3f-a199-48ac-925d-8782320bfea2",
   "metadata": {},
   "source": [
    "## Defining the potential"
   ]
  },
  {
   "cell_type": "markdown",
   "id": "8dd7332c-9e90-45f7-8743-1c7de29c31cf",
   "metadata": {},
   "source": [
    "Now, we will define the _potential energy surface_ that determines how the atoms interact.  In some ways, this is the most important ingredient in an atomistic simulation!\n",
    "\n",
    "As discussed, we will use the Lennard-Jones potential here, defined by the equation:\n",
    "$$\n",
    "u(r) = 4\\varepsilon \\left(\\left(\\frac{r_0}{r}\\right)^{12} - \\left(\\frac{r_0}{r}^{6}\\right)\\right)\n",
    "$$\n",
    "applied between all pairs of atoms within some _maximum distance_ of each other.  This maximum distance is another important parameter of the potential, and it is typically called the \"cutoff\".\n",
    "\n",
    "To calculate this potential for any atomic configuration, we will use ASE's built-in potential _calculator_:"
   ]
  },
  {
   "cell_type": "code",
   "execution_count": 18,
   "id": "ce01f854-343f-4a88-bcf9-9ebb8575539b",
   "metadata": {},
   "outputs": [],
   "source": [
    "from ase.calculators.lj import LennardJones"
   ]
  },
  {
   "cell_type": "code",
   "execution_count": 19,
   "id": "643c3ddc-495e-42da-afe1-adea10fb66c0",
   "metadata": {
    "scrolled": true
   },
   "outputs": [
    {
     "data": {
      "text/plain": [
       "\u001b[31mInit signature:\u001b[39m LennardJones(**kwargs)\n",
       "\u001b[31mDocstring:\u001b[39m     \n",
       "Lennard Jones potential calculator\n",
       "\n",
       "see https://en.wikipedia.org/wiki/Lennard-Jones_potential\n",
       "\n",
       "The fundamental definition of this potential is a pairwise energy:\n",
       "\n",
       "``u_ij = 4 epsilon ( sigma^12/r_ij^12 - sigma^6/r_ij^6 )``\n",
       "\n",
       "For convenience, we'll use d_ij to refer to \"distance vector\" and\n",
       "``r_ij`` to refer to \"scalar distance\". So, with position vectors `r_i`:\n",
       "\n",
       "``r_ij = | r_j - r_i | = | d_ij |``\n",
       "\n",
       "Therefore:\n",
       "\n",
       "``d r_ij / d d_ij = + d_ij / r_ij``\n",
       "``d r_ij / d d_i  = - d_ij / r_ij``\n",
       "\n",
       "The derivative of u_ij is:\n",
       "\n",
       "::\n",
       "\n",
       "    d u_ij / d r_ij\n",
       "    = (-24 epsilon / r_ij) ( 2 sigma^12/r_ij^12 - sigma^6/r_ij^6 )\n",
       "\n",
       "We can define a \"pairwise force\"\n",
       "\n",
       "``f_ij = d u_ij / d d_ij = d u_ij / d r_ij * d_ij / r_ij``\n",
       "\n",
       "The terms in front of d_ij are combined into a \"general derivative\".\n",
       "\n",
       "``du_ij = (d u_ij / d d_ij) / r_ij``\n",
       "\n",
       "We do this for convenience: `du_ij` is purely scalar The pairwise force is:\n",
       "\n",
       "``f_ij = du_ij * d_ij``\n",
       "\n",
       "The total force on an atom is:\n",
       "\n",
       "``f_i = sum_(j != i) f_ij``\n",
       "\n",
       "There is some freedom of choice in assigning atomic energies, i.e.\n",
       "choosing a way to partition the total energy into atomic contributions.\n",
       "\n",
       "We choose a symmetric approach (`bothways=True` in the neighbor list):\n",
       "\n",
       "``u_i = 1/2 sum_(j != i) u_ij``\n",
       "\n",
       "The total energy of a system of atoms is then:\n",
       "\n",
       "``u = sum_i u_i = 1/2 sum_(i, j != i) u_ij``\n",
       "\n",
       "Differentiating `u` with respect to `r_i` yields the force,\n",
       "independent of the choice of partitioning.\n",
       "\n",
       "::\n",
       "\n",
       "    f_i = - d u / d r_i = - sum_ij d u_ij / d r_i\n",
       "        = - sum_ij d u_ij / d r_ij * d r_ij / d r_i\n",
       "        = sum_ij du_ij d_ij = sum_ij f_ij\n",
       "\n",
       "This justifies calling `f_ij` pairwise forces.\n",
       "\n",
       "The stress can be written as ( `(x)` denoting outer product):\n",
       "\n",
       "``sigma = 1/2 sum_(i, j != i) f_ij (x) d_ij = sum_i sigma_i ,``\n",
       "with atomic contributions\n",
       "\n",
       "``sigma_i  = 1/2 sum_(j != i) f_ij (x) d_ij``\n",
       "\n",
       "Another consideration is the cutoff. We have to ensure that the potential\n",
       "goes to zero smoothly as an atom moves across the cutoff threshold,\n",
       "otherwise the potential is not continuous. In cases where the cutoff is\n",
       "so large that u_ij is very small at the cutoff this is automatically\n",
       "ensured, but in general, `u_ij(rc) != 0`.\n",
       "\n",
       "This implementation offers two ways to deal with this:\n",
       "\n",
       "Either, we shift the pairwise energy\n",
       "\n",
       "``u'_ij = u_ij - u_ij(rc)``\n",
       "\n",
       "which ensures that it is precisely zero at the cutoff. However, this means\n",
       "that the energy effectively depends on the cutoff, which might lead to\n",
       "unexpected results! If this option is chosen, the forces discontinuously\n",
       "jump to zero at the cutoff.\n",
       "\n",
       "An alternative is to modify the pairwise potential by multiplying\n",
       "it with a cutoff function that goes from 1 to 0 between an onset radius\n",
       "ro and the cutoff rc. If the function is chosen suitably, it can also\n",
       "smoothly push the forces down to zero, ensuring continuous forces as well.\n",
       "In order for this to work well, the onset radius has to be set suitably,\n",
       "typically around 2*sigma.\n",
       "\n",
       "In this case, we introduce a modified pairwise potential:\n",
       "\n",
       "``u'_ij = fc * u_ij``\n",
       "\n",
       "The pairwise forces have to be modified accordingly:\n",
       "\n",
       "``f'_ij = fc * f_ij + fc' * u_ij``\n",
       "\n",
       "Where `fc' = d fc / d d_ij`.\n",
       "\n",
       "This approach is taken from Jax-MD (https://github.com/google/jax-md),\n",
       "which in turn is inspired by HOOMD Blue\n",
       "(https://glotzerlab.engin.umich.edu/hoomd-blue/).\n",
       "\u001b[31mInit docstring:\u001b[39m\n",
       "Parameters\n",
       "----------\n",
       "sigma: float\n",
       "  The potential minimum is at  2**(1/6) * sigma, default 1.0\n",
       "epsilon: float\n",
       "  The potential depth, default 1.0\n",
       "rc: float, None\n",
       "  Cut-off for the NeighborList is set to 3 * sigma if None.\n",
       "  The energy is upshifted to be continuous at rc.\n",
       "  Default None\n",
       "ro: float, None\n",
       "  Onset of cutoff function in 'smooth' mode. Defaults to 0.66 * rc.\n",
       "smooth: bool, False\n",
       "  Cutoff mode. False means that the pairwise energy is simply shifted\n",
       "  to be 0 at r = rc, leading to the energy going to 0 continuously,\n",
       "  but the forces jumping to zero discontinuously at the cutoff.\n",
       "  True means that a smooth cutoff function is multiplied to the pairwise\n",
       "  energy that smoothly goes to 0 between ro and rc. Both energy and\n",
       "  forces are continuous in that case.\n",
       "  If smooth=True, make sure to check the tail of the\n",
       "  forces for kinks, ro might have to be adjusted to avoid distorting\n",
       "  the potential too much.\n",
       "\u001b[31mFile:\u001b[39m           /scratch/nvl518/miniforge3/envs/atomic/lib/python3.13/site-packages/ase/calculators/lj.py\n",
       "\u001b[31mType:\u001b[39m           ABCMeta\n",
       "\u001b[31mSubclasses:\u001b[39m     "
      ]
     },
     "metadata": {},
     "output_type": "display_data"
    }
   ],
   "source": [
    "?LennardJones"
   ]
  },
  {
   "cell_type": "markdown",
   "id": "3b4df60d-e969-430a-a774-9f5c5d0d9292",
   "metadata": {},
   "source": [
    "Take a moment to check out the documentation.  This is also available online in the [ASE documentation page](https://wiki.fysik.dtu.dk/ase/ase/calculators/others.html#lennard-jones)."
   ]
  },
  {
   "cell_type": "markdown",
   "id": "da01394d-6868-42bb-bf33-1a3d9f82c050",
   "metadata": {},
   "source": [
    "We will need to initialize it with a few parameters -- besides the cutoff radius, we need values for $\\varepsilon$ and $r_0$.  Let's use the values proposed in this publication: [J. A. White, _J. Chem. Phys._ **111**, 9352-9355 (1999)]().\n",
    "\n",
    "The proposed values are: $r_0 = 3.345\\,\\text{Å}$ and $\\varepsilon = 125.7 k_B$, where $k_B$ is Boltzmann's constant.\n",
    "\n",
    "But hang on -- we need to make sure to convert these to the units that ASE uses!  Luckily, ASE already uses Ångström for length units.  For the energy units, we just use the `ase.units` module to find the appropriate conversion:"
   ]
  },
  {
   "cell_type": "code",
   "execution_count": 20,
   "id": "66740cb5-84e5-45d8-a140-43e26bab1885",
   "metadata": {},
   "outputs": [
    {
     "data": {
      "text/plain": [
       "8.617330337217213e-05"
      ]
     },
     "execution_count": 20,
     "metadata": {},
     "output_type": "execute_result"
    }
   ],
   "source": [
    "ase.units.kB"
   ]
  },
  {
   "cell_type": "markdown",
   "id": "3288aa47-1ad9-496d-ae9f-0ce548f5158c",
   "metadata": {},
   "source": [
    "So, putting it together, we initialize the potential as follows:"
   ]
  },
  {
   "cell_type": "code",
   "execution_count": 21,
   "id": "eca15fd5-e8e0-46a7-b84c-1445ca825a55",
   "metadata": {},
   "outputs": [],
   "source": [
    "lj_argon_calc = LennardJones(sigma=3.345, epsilon=125.7*ase.units.kB, rc=10.0, smooth=True)"
   ]
  },
  {
   "cell_type": "markdown",
   "id": "f78ad4e2-8638-45e3-b5b3-8c835f8ed822",
   "metadata": {},
   "source": [
    "(I've somewhat arbitrarily chosen a cutoff radius of 10 Å here because that's the length of our cell.  You can play around with different cutoff values later, although be warned that the effect on the results can be quite subtle.)"
   ]
  },
  {
   "cell_type": "markdown",
   "id": "5ac853a4-01cf-4e8d-94ce-3686024f5a34",
   "metadata": {},
   "source": [
    "## Doing something with the potential"
   ]
  },
  {
   "cell_type": "markdown",
   "id": "8196af91-7109-4d56-b37f-65d3d11d6d0b",
   "metadata": {},
   "source": [
    "Now that we've defined the potential, let's do something useful with it!  The simplest thing would be an energy minimization, where we try to find the structure that minimizes the energy of this potential energy surface.  Note that this structure will generally depend on the potential and its parameters!"
   ]
  },
  {
   "cell_type": "code",
   "execution_count": 22,
   "id": "2dc398fe-f4f9-4683-bbdb-7ce7b56f9e31",
   "metadata": {},
   "outputs": [
    {
     "name": "stderr",
     "output_type": "stream",
     "text": [
      "/tmp/ipykernel_780710/392841954.py:1: FutureWarning: Please use atoms.calc = calc\n",
      "  starting_config.set_calculator(lj_argon_calc)\n"
     ]
    }
   ],
   "source": [
    "starting_config.set_calculator(lj_argon_calc)"
   ]
  },
  {
   "cell_type": "code",
   "execution_count": 25,
   "id": "c94324f3-77a2-4abf-99db-6d9c6c6dad6e",
   "metadata": {},
   "outputs": [],
   "source": [
    "from ase.optimize import BFGS"
   ]
  },
  {
   "cell_type": "code",
   "execution_count": 28,
   "id": "c86c5679-2fdb-452d-9c09-3b07a7fea259",
   "metadata": {},
   "outputs": [],
   "source": [
    "from ase.filters import ExpCellFilter"
   ]
  },
  {
   "cell_type": "code",
   "execution_count": 33,
   "id": "d54ed934-f7fe-475c-a576-9620a09947b3",
   "metadata": {},
   "outputs": [
    {
     "name": "stdout",
     "output_type": "stream",
     "text": [
      "      Step     Time          Energy          fmax\n",
      "BFGS:    0 15:51:53       -2.778298        0.000596\n"
     ]
    },
    {
     "name": "stderr",
     "output_type": "stream",
     "text": [
      "/tmp/ipykernel_780710/4288921084.py:2: DeprecationWarning: Use FrechetCellFilter for better convergence w.r.t. cell variables.\n",
      "  atoms_cell = ExpCellFilter(starting_config, hydrostatic_strain=True)\n"
     ]
    },
    {
     "data": {
      "text/plain": [
       "np.True_"
      ]
     },
     "execution_count": 33,
     "metadata": {},
     "output_type": "execute_result"
    }
   ],
   "source": [
    "# Slightly annoying extra step we need in order to optimize the cell (volume) in addition to the positions\n",
    "atoms_cell = ExpCellFilter(starting_config, hydrostatic_strain=True)\n",
    "opt = BFGS(atoms_cell)\n",
    "opt.run(fmax=0.005)"
   ]
  },
  {
   "cell_type": "code",
   "execution_count": 31,
   "id": "659b0f25-52a4-4c87-ab54-667e20fd5c36",
   "metadata": {},
   "outputs": [
    {
     "data": {
      "text/plain": [
       "<ase.filters.ExpCellFilter at 0x7f3493385d10>"
      ]
     },
     "execution_count": 31,
     "metadata": {},
     "output_type": "execute_result"
    }
   ],
   "source": [
    "atoms_cell"
   ]
  },
  {
   "cell_type": "code",
   "execution_count": 32,
   "id": "f97cc123-1c34-4cdc-8895-c76b696db110",
   "metadata": {},
   "outputs": [
    {
     "data": {
      "text/plain": [
       "Atoms(symbols='Ar32', pbc=True, cell=[[10.347299727835516, 7.186239713009969e-21, 9.447929792997826e-21], [-8.985169089170857e-18, 10.347299727835516, 2.9693821976474967e-21], [1.820059191444276e-19, -4.154090480839192e-20, 10.347299727835516]], calculator=LennardJones(...))"
      ]
     },
     "execution_count": 32,
     "metadata": {},
     "output_type": "execute_result"
    }
   ],
   "source": [
    "starting_config"
   ]
  },
  {
   "cell_type": "markdown",
   "id": "d50f509a-946f-4b16-89d5-19667d3d2f49",
   "metadata": {},
   "source": [
    "### Question"
   ]
  },
  {
   "cell_type": "markdown",
   "id": "6f726b79-bca1-4f77-b810-3da483e33526",
   "metadata": {},
   "source": [
    "What is the _cell parameter_ of the resulting, optimized structure?  How does it compare to the experimental value (for solid argon)?"
   ]
  },
  {
   "cell_type": "markdown",
   "id": "cf133ed5-f4f4-4641-b0c5-54e7883ad26a",
   "metadata": {},
   "source": [
    "## Run dynamics"
   ]
  },
  {
   "cell_type": "markdown",
   "id": "0374ceaa-ab43-4a31-babc-56de4e6188b5",
   "metadata": {},
   "source": [
    "Okay, now we get to the fun part!  Let's run some actual simulations and see the atoms move!"
   ]
  },
  {
   "cell_type": "code",
   "execution_count": 35,
   "id": "e11c9e23-2045-4bee-a0aa-e662dd7a0dec",
   "metadata": {},
   "outputs": [],
   "source": [
    "import ase.md"
   ]
  },
  {
   "cell_type": "markdown",
   "id": "ca81762f-8687-41ba-9871-878ac79f28bc",
   "metadata": {},
   "source": [
    "First, we need an \"integrator\" that actually solves the equations of motion.  Velocity Verlet is a good choice:"
   ]
  },
  {
   "cell_type": "code",
   "execution_count": 36,
   "id": "70fa5ca1-4d17-40f9-8c5e-8c27cbb641d3",
   "metadata": {},
   "outputs": [],
   "source": [
    "vv = ase.md.VelocityVerlet(atoms=starting_config, timestep=1.0, trajectory='trial_traj.xyz')"
   ]
  },
  {
   "cell_type": "markdown",
   "id": "5e43507d-807b-4521-b64f-48c9499a79f6",
   "metadata": {},
   "source": [
    "And now we just run it for 50 timesteps and see what happens!"
   ]
  },
  {
   "cell_type": "code",
   "execution_count": 38,
   "id": "d79ee2a1-ddf1-4234-b09a-bfbce7384ccf",
   "metadata": {},
   "outputs": [
    {
     "data": {
      "text/plain": [
       "True"
      ]
     },
     "execution_count": 38,
     "metadata": {},
     "output_type": "execute_result"
    }
   ],
   "source": [
    "vv.run(50)"
   ]
  },
  {
   "cell_type": "markdown",
   "id": "8d4e3f35-7969-4f8d-989e-2b27d65aaeea",
   "metadata": {},
   "source": [
    "Finally, try loading the output in the `ase gui` and see if we got anything..."
   ]
  },
  {
   "cell_type": "markdown",
   "id": "6eabd68d-a5b5-4814-aae0-68158f2363d8",
   "metadata": {},
   "source": [
    "----\n",
    "SPOILER ALERT\n",
    "\n"
   ]
  },
  {
   "cell_type": "markdown",
   "id": "3133d6f5-6a4c-4daf-9ed8-732c11d524ae",
   "metadata": {},
   "source": [
    "...nothing happened.  That's because we haven't initialized the _velocities_ on the atoms, so they're not moving!  Let's set them up with a nice initial, \"thermal\" velocity."
   ]
  },
  {
   "cell_type": "code",
   "execution_count": 39,
   "id": "8fedc216-0757-4a17-9485-751dfb6e35cc",
   "metadata": {},
   "outputs": [],
   "source": [
    "from ase.md import velocitydistribution"
   ]
  },
  {
   "cell_type": "code",
   "execution_count": 40,
   "id": "1b361dfb-8c71-4929-aaf8-19a3b39c18be",
   "metadata": {},
   "outputs": [],
   "source": [
    "velocitydistribution.MaxwellBoltzmannDistribution(starting_config, temperature_K=20)"
   ]
  },
  {
   "cell_type": "code",
   "execution_count": 41,
   "id": "c6b18f3c-4019-4457-878e-07f145f6dc99",
   "metadata": {},
   "outputs": [
    {
     "data": {
      "text/plain": [
       "True"
      ]
     },
     "execution_count": 41,
     "metadata": {},
     "output_type": "execute_result"
    }
   ],
   "source": [
    "vv.run(50)"
   ]
  },
  {
   "cell_type": "code",
   "execution_count": null,
   "id": "9785a115-db62-4505-8642-b52f1ceb5995",
   "metadata": {},
   "outputs": [],
   "source": []
  }
 ],
 "metadata": {
  "kernelspec": {
   "display_name": "Python 3 (ipykernel)",
   "language": "python",
   "name": "python3"
  },
  "language_info": {
   "codemirror_mode": {
    "name": "ipython",
    "version": 3
   },
   "file_extension": ".py",
   "mimetype": "text/x-python",
   "name": "python",
   "nbconvert_exporter": "python",
   "pygments_lexer": "ipython3",
   "version": "3.13.3"
  }
 },
 "nbformat": 4,
 "nbformat_minor": 5
}
