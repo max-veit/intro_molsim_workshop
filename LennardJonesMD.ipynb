{
  "cells": [
    {
      "cell_type": "markdown",
      "id": "4cffbeb9-fb1c-4850-9ce7-a33c51224158",
      "metadata": {
        "id": "4cffbeb9-fb1c-4850-9ce7-a33c51224158"
      },
      "source": [
        "# Molecular dynamics simulations with the Lennard-Jones potential"
      ]
    },
    {
      "cell_type": "markdown",
      "id": "d04bb615-cd24-4404-9814-70d9e9cdad16",
      "metadata": {
        "id": "d04bb615-cd24-4404-9814-70d9e9cdad16"
      },
      "source": [
        "## Setup"
      ]
    },
    {
      "cell_type": "markdown",
      "id": "8af71a98-b6f5-4f78-8e2a-1c1394225a59",
      "metadata": {
        "id": "8af71a98-b6f5-4f78-8e2a-1c1394225a59"
      },
      "source": [
        "The first thing you will need to do is install the [ASE package](https://wiki.fysik.dtu.dk/ase/) (for Atomic Simulation Environment).  First, make sure you are in the correct Python virtual environment.  If you have been installing packages with `pip`, you can just run:\n",
        "\n",
        "    pip install ase\n",
        "\n",
        "and it should install it into the correct environment.  Make sure it works by running the cell below:"
      ]
    },
    {
      "cell_type": "code",
      "execution_count": 2,
      "id": "5d84673b-6c13-455f-b0b9-61eec0d73618",
      "metadata": {
        "id": "5d84673b-6c13-455f-b0b9-61eec0d73618"
      },
      "outputs": [],
      "source": [
        "import ase"
      ]
    },
    {
      "cell_type": "code",
      "source": [
        "!pip install ase"
      ],
      "metadata": {
        "id": "yCUOPBtyjxpw",
        "outputId": "ae1fb534-14fe-419b-bd90-e1744a467ab0",
        "colab": {
          "base_uri": "https://localhost:8080/"
        }
      },
      "id": "yCUOPBtyjxpw",
      "execution_count": 36,
      "outputs": [
        {
          "output_type": "stream",
          "name": "stdout",
          "text": [
            "Requirement already satisfied: ase in /usr/local/lib/python3.11/dist-packages (3.25.0)\n",
            "Requirement already satisfied: numpy>=1.19.5 in /usr/local/lib/python3.11/dist-packages (from ase) (2.0.2)\n",
            "Requirement already satisfied: scipy>=1.6.0 in /usr/local/lib/python3.11/dist-packages (from ase) (1.14.1)\n",
            "Requirement already satisfied: matplotlib>=3.3.4 in /usr/local/lib/python3.11/dist-packages (from ase) (3.10.0)\n",
            "Requirement already satisfied: contourpy>=1.0.1 in /usr/local/lib/python3.11/dist-packages (from matplotlib>=3.3.4->ase) (1.3.2)\n",
            "Requirement already satisfied: cycler>=0.10 in /usr/local/lib/python3.11/dist-packages (from matplotlib>=3.3.4->ase) (0.12.1)\n",
            "Requirement already satisfied: fonttools>=4.22.0 in /usr/local/lib/python3.11/dist-packages (from matplotlib>=3.3.4->ase) (4.57.0)\n",
            "Requirement already satisfied: kiwisolver>=1.3.1 in /usr/local/lib/python3.11/dist-packages (from matplotlib>=3.3.4->ase) (1.4.8)\n",
            "Requirement already satisfied: packaging>=20.0 in /usr/local/lib/python3.11/dist-packages (from matplotlib>=3.3.4->ase) (24.2)\n",
            "Requirement already satisfied: pillow>=8 in /usr/local/lib/python3.11/dist-packages (from matplotlib>=3.3.4->ase) (11.1.0)\n",
            "Requirement already satisfied: pyparsing>=2.3.1 in /usr/local/lib/python3.11/dist-packages (from matplotlib>=3.3.4->ase) (3.2.3)\n",
            "Requirement already satisfied: python-dateutil>=2.7 in /usr/local/lib/python3.11/dist-packages (from matplotlib>=3.3.4->ase) (2.8.2)\n",
            "Requirement already satisfied: six>=1.5 in /usr/local/lib/python3.11/dist-packages (from python-dateutil>=2.7->matplotlib>=3.3.4->ase) (1.17.0)\n"
          ]
        }
      ]
    },
    {
      "cell_type": "markdown",
      "id": "3e1d028a-0db5-4ec8-83ae-4bf2de26f528",
      "metadata": {
        "id": "3e1d028a-0db5-4ec8-83ae-4bf2de26f528"
      },
      "source": [
        "If you get errors at this stage, please ask for help."
      ]
    },
    {
      "cell_type": "markdown",
      "id": "02a10a9b-696a-4fc9-92ad-7cf0ffbda7a2",
      "metadata": {
        "id": "02a10a9b-696a-4fc9-92ad-7cf0ffbda7a2"
      },
      "source": [
        "**Note for Anaconda/conda users**: The ASE package is not available through Anaconda's default distribution channels.  It is, however, available from [conda-forge](https://conda-forge.org/packages/).  You can use the following installation command (again, make sure you are in the correct environment):\n",
        "\n",
        "    conda install -c conda-forge --strict-channel-priority ase\n",
        "\n",
        "and try the `import` command above."
      ]
    },
    {
      "cell_type": "markdown",
      "id": "10c00791-608f-4c41-829c-16bb24375890",
      "metadata": {
        "id": "10c00791-608f-4c41-829c-16bb24375890"
      },
      "source": [
        "### Other imports"
      ]
    },
    {
      "cell_type": "code",
      "execution_count": 1,
      "id": "688a6973-aa4c-4005-8021-efe66e91c6bd",
      "metadata": {
        "id": "688a6973-aa4c-4005-8021-efe66e91c6bd"
      },
      "outputs": [],
      "source": [
        "import numpy as np\n",
        "from matplotlib import pyplot as plt"
      ]
    },
    {
      "cell_type": "markdown",
      "id": "b4b44613-2930-4641-9403-38101d8467c4",
      "metadata": {
        "id": "b4b44613-2930-4641-9403-38101d8467c4"
      },
      "source": [
        "### Viewing atomic structures"
      ]
    },
    {
      "cell_type": "markdown",
      "id": "e8724542-7d37-4db9-8292-1a5355ac4ac4",
      "metadata": {
        "id": "e8724542-7d37-4db9-8292-1a5355ac4ac4"
      },
      "source": [
        "It is important that we visualize atomic structures and their evolution in time, so that we can _see_ the (qualitative) behaviour of a system.  ASE provides a few ways to do this.  The most full-featured and user-friendly one is the [ASE GUI](https://wiki.fysik.dtu.dk/ase/ase/gui/gui.html), accessible from the command line with:\n",
        "\n",
        "    ase gui <structure_file.xyz>\n",
        "\n",
        "where `<structure_file.xyz>` is a file containing the structures you want to view."
      ]
    },
    {
      "cell_type": "markdown",
      "id": "a94b7e9f-4196-407f-9376-c7e87c5647ba",
      "metadata": {
        "id": "a94b7e9f-4196-407f-9376-c7e87c5647ba"
      },
      "source": [
        "You can also view structures directly in the notebook environment.  This can be very useful for quick checking of structures without interrupting your workflow.  To do this, you first have to import ASE's `view()` function:"
      ]
    },
    {
      "cell_type": "code",
      "execution_count": 28,
      "id": "302491f6-68dc-40a0-97e5-b7fcd8851bc8",
      "metadata": {
        "id": "302491f6-68dc-40a0-97e5-b7fcd8851bc8"
      },
      "outputs": [],
      "source": [
        "from ase.visualize import view"
      ]
    },
    {
      "cell_type": "markdown",
      "id": "c799b602-89e9-4617-b7b0-d4b6cb22afea",
      "metadata": {
        "id": "c799b602-89e9-4617-b7b0-d4b6cb22afea"
      },
      "source": [
        "Now, if you just call `view(structure)` on an atomic structure, you will see a visualization directly in the notebook.  Note that this visualization is still a bit basic; you can get more features by installing the `nglview` plugin:\n",
        "\n",
        "    pip install nglview\n",
        "or\n",
        "\n",
        "    conda install -c conda-forge --strict-channel-priority nglview\n",
        "\n",
        "You can now call the viewer function like: `view(structure, viewer='ngl')` and you will get a more interactive structure viewer.  Try it out below!"
      ]
    },
    {
      "cell_type": "markdown",
      "id": "b902334d-d7d0-47c5-b0ce-fdad62e60a12",
      "metadata": {
        "id": "b902334d-d7d0-47c5-b0ce-fdad62e60a12"
      },
      "source": [
        "## Initial configuration"
      ]
    },
    {
      "cell_type": "markdown",
      "id": "e7e75b30-fcab-497e-83dd-a2d6ac483aa4",
      "metadata": {
        "id": "e7e75b30-fcab-497e-83dd-a2d6ac483aa4"
      },
      "source": [
        "Let's start with an _initial configuration_ of atoms.  I've prepared a starting structure (a crystal of 32 Ar atoms in the FCC close-packed configuration) using the code below, but you can just load the structure from the file included with this tutorial."
      ]
    },
    {
      "cell_type": "code",
      "execution_count": null,
      "id": "571a58a5-f675-415b-8480-28995c433bea",
      "metadata": {
        "id": "571a58a5-f675-415b-8480-28995c433bea"
      },
      "outputs": [],
      "source": [
        "from ase.build import bulk, make_supercell\n",
        "starting_unit = bulk('Ar', 'fcc', a=5.0, cubic=True)\n",
        "starting_config = make_supercell(starting_unit, 2*np.eye(3, dtype=int))"
      ]
    },
    {
      "cell_type": "code",
      "execution_count": 3,
      "id": "ae452f26-6848-45aa-8a3a-ece953a6b85f",
      "metadata": {
        "id": "ae452f26-6848-45aa-8a3a-ece953a6b85f"
      },
      "outputs": [],
      "source": [
        "import ase.io"
      ]
    },
    {
      "cell_type": "code",
      "execution_count": 28,
      "id": "260867ac-903d-48cc-a1cf-fdcced4a31cd",
      "metadata": {
        "id": "260867ac-903d-48cc-a1cf-fdcced4a31cd"
      },
      "outputs": [],
      "source": [
        "ase.io.write('starting_config.xyz', starting_config)"
      ]
    },
    {
      "cell_type": "markdown",
      "id": "523d44ee-a484-4661-be60-c1f52788a70f",
      "metadata": {
        "id": "523d44ee-a484-4661-be60-c1f52788a70f"
      },
      "source": [
        "----"
      ]
    },
    {
      "cell_type": "code",
      "execution_count": 52,
      "id": "834cdc8b-72ed-4fcb-bfc7-298b8bb4ee6b",
      "metadata": {
        "id": "834cdc8b-72ed-4fcb-bfc7-298b8bb4ee6b"
      },
      "outputs": [],
      "source": [
        "starting_config = ase.io.read('starting_config.xyz')"
      ]
    },
    {
      "cell_type": "code",
      "execution_count": 29,
      "id": "e8a20942-d25b-4ba1-89bf-d08844319ce0",
      "metadata": {
        "id": "e8a20942-d25b-4ba1-89bf-d08844319ce0",
        "outputId": "c6f095e2-84aa-478b-8c68-d028f52750f8",
        "colab": {
          "base_uri": "https://localhost:8080/",
          "height": 317
        }
      },
      "outputs": [
        {
          "output_type": "execute_result",
          "data": {
            "text/plain": [
              "<IPython.core.display.HTML object>"
            ],
            "text/html": [
              "<html>\n",
              "    <head>\n",
              "        <title>ASE atomic visualization</title>\n",
              "        <link rel=\"stylesheet\" type=\"text/css\"             href=\"https://www.x3dom.org/release/x3dom.css\"></link>\n",
              "        <script type=\"text/javascript\"             src=\"https://www.x3dom.org/release/x3dom.js\"></script>\n",
              "    </head>\n",
              "    <body>\n",
              "        <X3D width=\"400px\"; height=\"300px\";>\n",
              "\n",
              "<!--Inserting Generated X3D Scene-->\n",
              "<scene>\n",
              "  <viewpoint position=\"0 0 20.69459945567103\">\n",
              "    <group/>\n",
              "  </viewpoint>\n",
              "  <transform translation=\"-5.173649863917758 -5.173649863917758 -5.173649863917758\">\n",
              "    <group>\n",
              "      <group>\n",
              "        <transform translation=\"0 0 0\">\n",
              "          <shape>\n",
              "            <appearance>\n",
              "              <material diffuseColor=\"0 0 0\"/>\n",
              "            </appearance>\n",
              "            <lineset vertexCount=\"5\">\n",
              "              <coordinate point=\"0 0 0 10.347299727835516 -2.113899567688366e-18 5.580984014422782e-20 10.347299727835516 10.347299727835516 3.7938484550710325e-20 -6.08488378391463e-18 10.347299727835516 -1.787135559351749e-20 0 0 0\"/>\n",
              "            </lineset>\n",
              "          </shape>\n",
              "        </transform>\n",
              "        <transform translation=\"-2.43572762310049e-18 -9.07649068997225e-20 10.347299727835516\">\n",
              "          <shape>\n",
              "            <appearance>\n",
              "              <material diffuseColor=\"0 0 0\"/>\n",
              "            </appearance>\n",
              "            <lineset vertexCount=\"5\">\n",
              "              <coordinate point=\"0 0 0 10.347299727835516 -2.113899567688366e-18 5.580984014422782e-20 10.347299727835516 10.347299727835516 3.7938484550710325e-20 -6.08488378391463e-18 10.347299727835516 -1.787135559351749e-20 0 0 0\"/>\n",
              "            </lineset>\n",
              "          </shape>\n",
              "        </transform>\n",
              "        <transform translation=\"0 0 0\">\n",
              "          <shape>\n",
              "            <appearance>\n",
              "              <material diffuseColor=\"0 0 0\"/>\n",
              "            </appearance>\n",
              "            <lineset vertexCount=\"5\">\n",
              "              <coordinate point=\"0 0 0 10.347299727835516 -2.113899567688366e-18 5.580984014422782e-20 10.347299727835516 -2.2046644745880885e-18 10.347299727835516 -2.43572762310049e-18 -9.07649068997225e-20 10.347299727835516 0 0 0\"/>\n",
              "            </lineset>\n",
              "          </shape>\n",
              "        </transform>\n",
              "        <transform translation=\"-6.08488378391463e-18 10.347299727835516 -1.787135559351749e-20\">\n",
              "          <shape>\n",
              "            <appearance>\n",
              "              <material diffuseColor=\"0 0 0\"/>\n",
              "            </appearance>\n",
              "            <lineset vertexCount=\"5\">\n",
              "              <coordinate point=\"0 0 0 10.347299727835516 -2.113899567688366e-18 5.580984014422782e-20 10.347299727835516 -2.2046644745880885e-18 10.347299727835516 -2.43572762310049e-18 -9.07649068997225e-20 10.347299727835516 0 0 0\"/>\n",
              "            </lineset>\n",
              "          </shape>\n",
              "        </transform>\n",
              "      </group>\n",
              "      <group>\n",
              "        <transform translation=\"-0.0 -0.0 -0.0\">\n",
              "          <shape>\n",
              "            <appearance>\n",
              "              <material diffuseColor=\"0.502 0.82 0.89\"/>\n",
              "            </appearance>\n",
              "            <sphere radius=\"1.06\"/>\n",
              "          </shape>\n",
              "        </transform>\n",
              "        <transform translation=\"-0.0 2.58682493 2.58682493\">\n",
              "          <shape>\n",
              "            <appearance>\n",
              "              <material diffuseColor=\"0.502 0.82 0.89\"/>\n",
              "            </appearance>\n",
              "            <sphere radius=\"1.06\"/>\n",
              "          </shape>\n",
              "        </transform>\n",
              "        <transform translation=\"2.58682493 -0.0 2.58682493\">\n",
              "          <shape>\n",
              "            <appearance>\n",
              "              <material diffuseColor=\"0.502 0.82 0.89\"/>\n",
              "            </appearance>\n",
              "            <sphere radius=\"1.06\"/>\n",
              "          </shape>\n",
              "        </transform>\n",
              "        <transform translation=\"2.58682493 2.58682493 -0.0\">\n",
              "          <shape>\n",
              "            <appearance>\n",
              "              <material diffuseColor=\"0.502 0.82 0.89\"/>\n",
              "            </appearance>\n",
              "            <sphere radius=\"1.06\"/>\n",
              "          </shape>\n",
              "        </transform>\n",
              "        <transform translation=\"-0.0 -0.0 5.17364986\">\n",
              "          <shape>\n",
              "            <appearance>\n",
              "              <material diffuseColor=\"0.502 0.82 0.89\"/>\n",
              "            </appearance>\n",
              "            <sphere radius=\"1.06\"/>\n",
              "          </shape>\n",
              "        </transform>\n",
              "        <transform translation=\"-0.0 2.58682493 7.7604748\">\n",
              "          <shape>\n",
              "            <appearance>\n",
              "              <material diffuseColor=\"0.502 0.82 0.89\"/>\n",
              "            </appearance>\n",
              "            <sphere radius=\"1.06\"/>\n",
              "          </shape>\n",
              "        </transform>\n",
              "        <transform translation=\"2.58682493 -0.0 7.7604748\">\n",
              "          <shape>\n",
              "            <appearance>\n",
              "              <material diffuseColor=\"0.502 0.82 0.89\"/>\n",
              "            </appearance>\n",
              "            <sphere radius=\"1.06\"/>\n",
              "          </shape>\n",
              "        </transform>\n",
              "        <transform translation=\"2.58682493 2.58682493 5.17364986\">\n",
              "          <shape>\n",
              "            <appearance>\n",
              "              <material diffuseColor=\"0.502 0.82 0.89\"/>\n",
              "            </appearance>\n",
              "            <sphere radius=\"1.06\"/>\n",
              "          </shape>\n",
              "        </transform>\n",
              "        <transform translation=\"-0.0 5.17364986 -0.0\">\n",
              "          <shape>\n",
              "            <appearance>\n",
              "              <material diffuseColor=\"0.502 0.82 0.89\"/>\n",
              "            </appearance>\n",
              "            <sphere radius=\"1.06\"/>\n",
              "          </shape>\n",
              "        </transform>\n",
              "        <transform translation=\"-0.0 7.7604748 2.58682493\">\n",
              "          <shape>\n",
              "            <appearance>\n",
              "              <material diffuseColor=\"0.502 0.82 0.89\"/>\n",
              "            </appearance>\n",
              "            <sphere radius=\"1.06\"/>\n",
              "          </shape>\n",
              "        </transform>\n",
              "        <transform translation=\"2.58682493 5.17364986 2.58682493\">\n",
              "          <shape>\n",
              "            <appearance>\n",
              "              <material diffuseColor=\"0.502 0.82 0.89\"/>\n",
              "            </appearance>\n",
              "            <sphere radius=\"1.06\"/>\n",
              "          </shape>\n",
              "        </transform>\n",
              "        <transform translation=\"2.58682493 7.7604748 -0.0\">\n",
              "          <shape>\n",
              "            <appearance>\n",
              "              <material diffuseColor=\"0.502 0.82 0.89\"/>\n",
              "            </appearance>\n",
              "            <sphere radius=\"1.06\"/>\n",
              "          </shape>\n",
              "        </transform>\n",
              "        <transform translation=\"-0.0 5.17364986 5.17364986\">\n",
              "          <shape>\n",
              "            <appearance>\n",
              "              <material diffuseColor=\"0.502 0.82 0.89\"/>\n",
              "            </appearance>\n",
              "            <sphere radius=\"1.06\"/>\n",
              "          </shape>\n",
              "        </transform>\n",
              "        <transform translation=\"-0.0 7.7604748 7.7604748\">\n",
              "          <shape>\n",
              "            <appearance>\n",
              "              <material diffuseColor=\"0.502 0.82 0.89\"/>\n",
              "            </appearance>\n",
              "            <sphere radius=\"1.06\"/>\n",
              "          </shape>\n",
              "        </transform>\n",
              "        <transform translation=\"2.58682493 5.17364986 7.7604748\">\n",
              "          <shape>\n",
              "            <appearance>\n",
              "              <material diffuseColor=\"0.502 0.82 0.89\"/>\n",
              "            </appearance>\n",
              "            <sphere radius=\"1.06\"/>\n",
              "          </shape>\n",
              "        </transform>\n",
              "        <transform translation=\"2.58682493 7.7604748 5.17364986\">\n",
              "          <shape>\n",
              "            <appearance>\n",
              "              <material diffuseColor=\"0.502 0.82 0.89\"/>\n",
              "            </appearance>\n",
              "            <sphere radius=\"1.06\"/>\n",
              "          </shape>\n",
              "        </transform>\n",
              "        <transform translation=\"5.17364986 -0.0 -0.0\">\n",
              "          <shape>\n",
              "            <appearance>\n",
              "              <material diffuseColor=\"0.502 0.82 0.89\"/>\n",
              "            </appearance>\n",
              "            <sphere radius=\"1.06\"/>\n",
              "          </shape>\n",
              "        </transform>\n",
              "        <transform translation=\"5.17364986 2.58682493 2.58682493\">\n",
              "          <shape>\n",
              "            <appearance>\n",
              "              <material diffuseColor=\"0.502 0.82 0.89\"/>\n",
              "            </appearance>\n",
              "            <sphere radius=\"1.06\"/>\n",
              "          </shape>\n",
              "        </transform>\n",
              "        <transform translation=\"7.7604748 -0.0 2.58682493\">\n",
              "          <shape>\n",
              "            <appearance>\n",
              "              <material diffuseColor=\"0.502 0.82 0.89\"/>\n",
              "            </appearance>\n",
              "            <sphere radius=\"1.06\"/>\n",
              "          </shape>\n",
              "        </transform>\n",
              "        <transform translation=\"7.7604748 2.58682493 -0.0\">\n",
              "          <shape>\n",
              "            <appearance>\n",
              "              <material diffuseColor=\"0.502 0.82 0.89\"/>\n",
              "            </appearance>\n",
              "            <sphere radius=\"1.06\"/>\n",
              "          </shape>\n",
              "        </transform>\n",
              "        <transform translation=\"5.17364986 -0.0 5.17364986\">\n",
              "          <shape>\n",
              "            <appearance>\n",
              "              <material diffuseColor=\"0.502 0.82 0.89\"/>\n",
              "            </appearance>\n",
              "            <sphere radius=\"1.06\"/>\n",
              "          </shape>\n",
              "        </transform>\n",
              "        <transform translation=\"5.17364986 2.58682493 7.7604748\">\n",
              "          <shape>\n",
              "            <appearance>\n",
              "              <material diffuseColor=\"0.502 0.82 0.89\"/>\n",
              "            </appearance>\n",
              "            <sphere radius=\"1.06\"/>\n",
              "          </shape>\n",
              "        </transform>\n",
              "        <transform translation=\"7.7604748 -0.0 7.7604748\">\n",
              "          <shape>\n",
              "            <appearance>\n",
              "              <material diffuseColor=\"0.502 0.82 0.89\"/>\n",
              "            </appearance>\n",
              "            <sphere radius=\"1.06\"/>\n",
              "          </shape>\n",
              "        </transform>\n",
              "        <transform translation=\"7.7604748 2.58682493 5.17364986\">\n",
              "          <shape>\n",
              "            <appearance>\n",
              "              <material diffuseColor=\"0.502 0.82 0.89\"/>\n",
              "            </appearance>\n",
              "            <sphere radius=\"1.06\"/>\n",
              "          </shape>\n",
              "        </transform>\n",
              "        <transform translation=\"5.17364986 5.17364986 -0.0\">\n",
              "          <shape>\n",
              "            <appearance>\n",
              "              <material diffuseColor=\"0.502 0.82 0.89\"/>\n",
              "            </appearance>\n",
              "            <sphere radius=\"1.06\"/>\n",
              "          </shape>\n",
              "        </transform>\n",
              "        <transform translation=\"5.17364986 7.7604748 2.58682493\">\n",
              "          <shape>\n",
              "            <appearance>\n",
              "              <material diffuseColor=\"0.502 0.82 0.89\"/>\n",
              "            </appearance>\n",
              "            <sphere radius=\"1.06\"/>\n",
              "          </shape>\n",
              "        </transform>\n",
              "        <transform translation=\"7.7604748 5.17364986 2.58682493\">\n",
              "          <shape>\n",
              "            <appearance>\n",
              "              <material diffuseColor=\"0.502 0.82 0.89\"/>\n",
              "            </appearance>\n",
              "            <sphere radius=\"1.06\"/>\n",
              "          </shape>\n",
              "        </transform>\n",
              "        <transform translation=\"7.7604748 7.7604748 -0.0\">\n",
              "          <shape>\n",
              "            <appearance>\n",
              "              <material diffuseColor=\"0.502 0.82 0.89\"/>\n",
              "            </appearance>\n",
              "            <sphere radius=\"1.06\"/>\n",
              "          </shape>\n",
              "        </transform>\n",
              "        <transform translation=\"5.17364986 5.17364986 5.17364986\">\n",
              "          <shape>\n",
              "            <appearance>\n",
              "              <material diffuseColor=\"0.502 0.82 0.89\"/>\n",
              "            </appearance>\n",
              "            <sphere radius=\"1.06\"/>\n",
              "          </shape>\n",
              "        </transform>\n",
              "        <transform translation=\"5.17364986 7.7604748 7.7604748\">\n",
              "          <shape>\n",
              "            <appearance>\n",
              "              <material diffuseColor=\"0.502 0.82 0.89\"/>\n",
              "            </appearance>\n",
              "            <sphere radius=\"1.06\"/>\n",
              "          </shape>\n",
              "        </transform>\n",
              "        <transform translation=\"7.7604748 5.17364986 7.7604748\">\n",
              "          <shape>\n",
              "            <appearance>\n",
              "              <material diffuseColor=\"0.502 0.82 0.89\"/>\n",
              "            </appearance>\n",
              "            <sphere radius=\"1.06\"/>\n",
              "          </shape>\n",
              "        </transform>\n",
              "        <transform translation=\"7.7604748 7.7604748 5.17364986\">\n",
              "          <shape>\n",
              "            <appearance>\n",
              "              <material diffuseColor=\"0.502 0.82 0.89\"/>\n",
              "            </appearance>\n",
              "            <sphere radius=\"1.06\"/>\n",
              "          </shape>\n",
              "        </transform>\n",
              "      </group>\n",
              "    </group>\n",
              "  </transform>\n",
              "</scene>\n",
              "<!--End of Inserted Scene-->\n",
              "\n",
              "        </X3D>\n",
              "    </body>\n",
              "</html>\n",
              "\n"
            ]
          },
          "metadata": {},
          "execution_count": 29
        }
      ],
      "source": [
        "# Note: This may not work if you haven't gotten nglview installed or configured correctly\n",
        "view(starting_config, viewer='x3d')"
      ]
    },
    {
      "cell_type": "markdown",
      "id": "c94e4b3f-a199-48ac-925d-8782320bfea2",
      "metadata": {
        "id": "c94e4b3f-a199-48ac-925d-8782320bfea2"
      },
      "source": [
        "## Defining the potential"
      ]
    },
    {
      "cell_type": "markdown",
      "id": "8dd7332c-9e90-45f7-8743-1c7de29c31cf",
      "metadata": {
        "id": "8dd7332c-9e90-45f7-8743-1c7de29c31cf"
      },
      "source": [
        "Now, we will define the _potential energy surface_ that determines how the atoms interact.  In some ways, this is the most important ingredient in an atomistic simulation!\n",
        "\n",
        "As discussed, we will use the Lennard-Jones potential here, defined by the equation:\n",
        "$$\n",
        "u(r) = 4\\varepsilon \\left(\\left(\\frac{r_0}{r}\\right)^{12} - \\left(\\frac{r_0}{r}^{6}\\right)\\right)\n",
        "$$\n",
        "applied between all pairs of atoms within some _maximum distance_ of each other.  This maximum distance is another important parameter of the potential, and it is typically called the \"cutoff\".\n",
        "\n",
        "To calculate this potential for any atomic configuration, we will use ASE's built-in potential _calculator_:"
      ]
    },
    {
      "cell_type": "code",
      "execution_count": 19,
      "id": "ce01f854-343f-4a88-bcf9-9ebb8575539b",
      "metadata": {
        "id": "ce01f854-343f-4a88-bcf9-9ebb8575539b"
      },
      "outputs": [],
      "source": [
        "from ase.calculators.lj import LennardJones"
      ]
    },
    {
      "cell_type": "code",
      "execution_count": null,
      "id": "643c3ddc-495e-42da-afe1-adea10fb66c0",
      "metadata": {
        "scrolled": true,
        "id": "643c3ddc-495e-42da-afe1-adea10fb66c0",
        "outputId": "e54299f5-c558-4d97-be8c-a2f466e0dd23"
      },
      "outputs": [
        {
          "data": {
            "text/plain": [
              "\u001b[31mInit signature:\u001b[39m LennardJones(**kwargs)\n",
              "\u001b[31mDocstring:\u001b[39m     \n",
              "Lennard Jones potential calculator\n",
              "\n",
              "see https://en.wikipedia.org/wiki/Lennard-Jones_potential\n",
              "\n",
              "The fundamental definition of this potential is a pairwise energy:\n",
              "\n",
              "``u_ij = 4 epsilon ( sigma^12/r_ij^12 - sigma^6/r_ij^6 )``\n",
              "\n",
              "For convenience, we'll use d_ij to refer to \"distance vector\" and\n",
              "``r_ij`` to refer to \"scalar distance\". So, with position vectors `r_i`:\n",
              "\n",
              "``r_ij = | r_j - r_i | = | d_ij |``\n",
              "\n",
              "Therefore:\n",
              "\n",
              "``d r_ij / d d_ij = + d_ij / r_ij``\n",
              "``d r_ij / d d_i  = - d_ij / r_ij``\n",
              "\n",
              "The derivative of u_ij is:\n",
              "\n",
              "::\n",
              "\n",
              "    d u_ij / d r_ij\n",
              "    = (-24 epsilon / r_ij) ( 2 sigma^12/r_ij^12 - sigma^6/r_ij^6 )\n",
              "\n",
              "We can define a \"pairwise force\"\n",
              "\n",
              "``f_ij = d u_ij / d d_ij = d u_ij / d r_ij * d_ij / r_ij``\n",
              "\n",
              "The terms in front of d_ij are combined into a \"general derivative\".\n",
              "\n",
              "``du_ij = (d u_ij / d d_ij) / r_ij``\n",
              "\n",
              "We do this for convenience: `du_ij` is purely scalar The pairwise force is:\n",
              "\n",
              "``f_ij = du_ij * d_ij``\n",
              "\n",
              "The total force on an atom is:\n",
              "\n",
              "``f_i = sum_(j != i) f_ij``\n",
              "\n",
              "There is some freedom of choice in assigning atomic energies, i.e.\n",
              "choosing a way to partition the total energy into atomic contributions.\n",
              "\n",
              "We choose a symmetric approach (`bothways=True` in the neighbor list):\n",
              "\n",
              "``u_i = 1/2 sum_(j != i) u_ij``\n",
              "\n",
              "The total energy of a system of atoms is then:\n",
              "\n",
              "``u = sum_i u_i = 1/2 sum_(i, j != i) u_ij``\n",
              "\n",
              "Differentiating `u` with respect to `r_i` yields the force,\n",
              "independent of the choice of partitioning.\n",
              "\n",
              "::\n",
              "\n",
              "    f_i = - d u / d r_i = - sum_ij d u_ij / d r_i\n",
              "        = - sum_ij d u_ij / d r_ij * d r_ij / d r_i\n",
              "        = sum_ij du_ij d_ij = sum_ij f_ij\n",
              "\n",
              "This justifies calling `f_ij` pairwise forces.\n",
              "\n",
              "The stress can be written as ( `(x)` denoting outer product):\n",
              "\n",
              "``sigma = 1/2 sum_(i, j != i) f_ij (x) d_ij = sum_i sigma_i ,``\n",
              "with atomic contributions\n",
              "\n",
              "``sigma_i  = 1/2 sum_(j != i) f_ij (x) d_ij``\n",
              "\n",
              "Another consideration is the cutoff. We have to ensure that the potential\n",
              "goes to zero smoothly as an atom moves across the cutoff threshold,\n",
              "otherwise the potential is not continuous. In cases where the cutoff is\n",
              "so large that u_ij is very small at the cutoff this is automatically\n",
              "ensured, but in general, `u_ij(rc) != 0`.\n",
              "\n",
              "This implementation offers two ways to deal with this:\n",
              "\n",
              "Either, we shift the pairwise energy\n",
              "\n",
              "``u'_ij = u_ij - u_ij(rc)``\n",
              "\n",
              "which ensures that it is precisely zero at the cutoff. However, this means\n",
              "that the energy effectively depends on the cutoff, which might lead to\n",
              "unexpected results! If this option is chosen, the forces discontinuously\n",
              "jump to zero at the cutoff.\n",
              "\n",
              "An alternative is to modify the pairwise potential by multiplying\n",
              "it with a cutoff function that goes from 1 to 0 between an onset radius\n",
              "ro and the cutoff rc. If the function is chosen suitably, it can also\n",
              "smoothly push the forces down to zero, ensuring continuous forces as well.\n",
              "In order for this to work well, the onset radius has to be set suitably,\n",
              "typically around 2*sigma.\n",
              "\n",
              "In this case, we introduce a modified pairwise potential:\n",
              "\n",
              "``u'_ij = fc * u_ij``\n",
              "\n",
              "The pairwise forces have to be modified accordingly:\n",
              "\n",
              "``f'_ij = fc * f_ij + fc' * u_ij``\n",
              "\n",
              "Where `fc' = d fc / d d_ij`.\n",
              "\n",
              "This approach is taken from Jax-MD (https://github.com/google/jax-md),\n",
              "which in turn is inspired by HOOMD Blue\n",
              "(https://glotzerlab.engin.umich.edu/hoomd-blue/).\n",
              "\u001b[31mInit docstring:\u001b[39m\n",
              "Parameters\n",
              "----------\n",
              "sigma: float\n",
              "  The potential minimum is at  2**(1/6) * sigma, default 1.0\n",
              "epsilon: float\n",
              "  The potential depth, default 1.0\n",
              "rc: float, None\n",
              "  Cut-off for the NeighborList is set to 3 * sigma if None.\n",
              "  The energy is upshifted to be continuous at rc.\n",
              "  Default None\n",
              "ro: float, None\n",
              "  Onset of cutoff function in 'smooth' mode. Defaults to 0.66 * rc.\n",
              "smooth: bool, False\n",
              "  Cutoff mode. False means that the pairwise energy is simply shifted\n",
              "  to be 0 at r = rc, leading to the energy going to 0 continuously,\n",
              "  but the forces jumping to zero discontinuously at the cutoff.\n",
              "  True means that a smooth cutoff function is multiplied to the pairwise\n",
              "  energy that smoothly goes to 0 between ro and rc. Both energy and\n",
              "  forces are continuous in that case.\n",
              "  If smooth=True, make sure to check the tail of the\n",
              "  forces for kinks, ro might have to be adjusted to avoid distorting\n",
              "  the potential too much.\n",
              "\u001b[31mFile:\u001b[39m           /scratch/nvl518/miniforge3/envs/atomic/lib/python3.13/site-packages/ase/calculators/lj.py\n",
              "\u001b[31mType:\u001b[39m           ABCMeta\n",
              "\u001b[31mSubclasses:\u001b[39m     "
            ]
          },
          "metadata": {},
          "output_type": "display_data"
        }
      ],
      "source": [
        "?LennardJones"
      ]
    },
    {
      "cell_type": "markdown",
      "id": "3b4df60d-e969-430a-a774-9f5c5d0d9292",
      "metadata": {
        "id": "3b4df60d-e969-430a-a774-9f5c5d0d9292"
      },
      "source": [
        "Take a moment to check out the documentation.  This is also available online in the [ASE documentation page](https://wiki.fysik.dtu.dk/ase/ase/calculators/others.html#lennard-jones)."
      ]
    },
    {
      "cell_type": "markdown",
      "id": "da01394d-6868-42bb-bf33-1a3d9f82c050",
      "metadata": {
        "id": "da01394d-6868-42bb-bf33-1a3d9f82c050"
      },
      "source": [
        "We will need to initialize it with a few parameters -- besides the cutoff radius, we need values for $\\varepsilon$ and $r_0$.  Let's use the values proposed in this publication: [J. A. White, _J. Chem. Phys._ **111**, 9352-9355 (1999)]().\n",
        "\n",
        "The proposed values are: $r_0 = 3.345\\,\\text{Å}$ and $\\varepsilon = 125.7 k_B$, where $k_B$ is Boltzmann's constant.\n",
        "\n",
        "But hang on -- we need to make sure to convert these to the units that ASE uses!  Luckily, ASE already uses Ångström for length units.  For the energy units, we just use the `ase.units` module to find the appropriate conversion:"
      ]
    },
    {
      "cell_type": "code",
      "execution_count": null,
      "id": "66740cb5-84e5-45d8-a140-43e26bab1885",
      "metadata": {
        "id": "66740cb5-84e5-45d8-a140-43e26bab1885",
        "outputId": "53975c53-c09c-462e-ea33-6d534c5cfeec"
      },
      "outputs": [
        {
          "data": {
            "text/plain": [
              "8.617330337217213e-05"
            ]
          },
          "execution_count": 20,
          "metadata": {},
          "output_type": "execute_result"
        }
      ],
      "source": [
        "ase.units.kB"
      ]
    },
    {
      "cell_type": "markdown",
      "id": "3288aa47-1ad9-496d-ae9f-0ce548f5158c",
      "metadata": {
        "id": "3288aa47-1ad9-496d-ae9f-0ce548f5158c"
      },
      "source": [
        "So, putting it together, we initialize the potential as follows:"
      ]
    },
    {
      "cell_type": "code",
      "execution_count": 53,
      "id": "eca15fd5-e8e0-46a7-b84c-1445ca825a55",
      "metadata": {
        "id": "eca15fd5-e8e0-46a7-b84c-1445ca825a55"
      },
      "outputs": [],
      "source": [
        "lj_argon_calc = LennardJones(sigma=3.345, epsilon=125.7*ase.units.kB, rc=10.0, smooth=True)"
      ]
    },
    {
      "cell_type": "markdown",
      "id": "f78ad4e2-8638-45e3-b5b3-8c835f8ed822",
      "metadata": {
        "id": "f78ad4e2-8638-45e3-b5b3-8c835f8ed822"
      },
      "source": [
        "(I've somewhat arbitrarily chosen a cutoff radius of 10 Å here because that's the length of our cell.  You can play around with different cutoff values later, although be warned that the effect on the results can be quite subtle.)"
      ]
    },
    {
      "cell_type": "markdown",
      "id": "5ac853a4-01cf-4e8d-94ce-3686024f5a34",
      "metadata": {
        "id": "5ac853a4-01cf-4e8d-94ce-3686024f5a34"
      },
      "source": [
        "## Doing something with the potential"
      ]
    },
    {
      "cell_type": "markdown",
      "id": "8196af91-7109-4d56-b37f-65d3d11d6d0b",
      "metadata": {
        "id": "8196af91-7109-4d56-b37f-65d3d11d6d0b"
      },
      "source": [
        "Now that we've defined the potential, let's do something useful with it!  The simplest thing would be an energy minimization, where we try to find the structure that minimizes the energy of this potential energy surface.  Note that this structure will generally depend on the potential and its parameters!"
      ]
    },
    {
      "cell_type": "code",
      "execution_count": 54,
      "id": "2dc398fe-f4f9-4683-bbdb-7ce7b56f9e31",
      "metadata": {
        "id": "2dc398fe-f4f9-4683-bbdb-7ce7b56f9e31",
        "outputId": "8a6daa72-5395-4298-c694-4b9e72acb0a7",
        "colab": {
          "base_uri": "https://localhost:8080/"
        }
      },
      "outputs": [
        {
          "output_type": "stream",
          "name": "stderr",
          "text": [
            "<ipython-input-54-5ba69273cfc4>:1: FutureWarning: Please use atoms.calc = calc\n",
            "  starting_config.set_calculator(lj_argon_calc)\n"
          ]
        }
      ],
      "source": [
        "starting_config.set_calculator(lj_argon_calc)"
      ]
    },
    {
      "cell_type": "code",
      "execution_count": 55,
      "id": "c94324f3-77a2-4abf-99db-6d9c6c6dad6e",
      "metadata": {
        "id": "c94324f3-77a2-4abf-99db-6d9c6c6dad6e"
      },
      "outputs": [],
      "source": [
        "from ase.optimize import BFGS"
      ]
    },
    {
      "cell_type": "code",
      "execution_count": 56,
      "id": "c86c5679-2fdb-452d-9c09-3b07a7fea259",
      "metadata": {
        "id": "c86c5679-2fdb-452d-9c09-3b07a7fea259"
      },
      "outputs": [],
      "source": [
        "from ase.filters import ExpCellFilter"
      ]
    },
    {
      "cell_type": "code",
      "execution_count": 57,
      "id": "d54ed934-f7fe-475c-a576-9620a09947b3",
      "metadata": {
        "id": "d54ed934-f7fe-475c-a576-9620a09947b3",
        "outputId": "26544954-52f7-4487-929f-34cad57aaa2f",
        "colab": {
          "base_uri": "https://localhost:8080/"
        }
      },
      "outputs": [
        {
          "output_type": "stream",
          "name": "stdout",
          "text": [
            "      Step     Time          Energy          fmax\n",
            "BFGS:    0 16:53:16       -2.778298        0.000596\n"
          ]
        },
        {
          "output_type": "stream",
          "name": "stderr",
          "text": [
            "<ipython-input-57-775d2bb4c5ca>:2: DeprecationWarning: Use FrechetCellFilter for better convergence w.r.t. cell variables.\n",
            "  atoms_cell = ExpCellFilter(starting_config, hydrostatic_strain=True)\n"
          ]
        },
        {
          "output_type": "execute_result",
          "data": {
            "text/plain": [
              "np.True_"
            ]
          },
          "metadata": {},
          "execution_count": 57
        }
      ],
      "source": [
        "# Slightly annoying extra step we need in order to optimize the cell (volume) in addition to the positions\n",
        "atoms_cell = ExpCellFilter(starting_config, hydrostatic_strain=True)\n",
        "opt = BFGS(atoms_cell)\n",
        "opt.run(fmax=0.005)"
      ]
    },
    {
      "cell_type": "code",
      "execution_count": 58,
      "id": "f97cc123-1c34-4cdc-8895-c76b696db110",
      "metadata": {
        "id": "f97cc123-1c34-4cdc-8895-c76b696db110",
        "outputId": "05be52af-b56f-4331-fb12-88ff1366e763",
        "colab": {
          "base_uri": "https://localhost:8080/"
        }
      },
      "outputs": [
        {
          "output_type": "execute_result",
          "data": {
            "text/plain": [
              "Atoms(symbols='Ar32', pbc=True, cell=[[10.347299727835516, -2.113899567688366e-18, 5.580984014422782e-20], [-6.08488378391463e-18, 10.347299727835516, -1.787135559351749e-20], [-2.43572762310049e-18, -9.07649068997225e-20, 10.347299727835516]], calculator=LennardJones(...))"
            ]
          },
          "metadata": {},
          "execution_count": 58
        }
      ],
      "source": [
        "starting_config"
      ]
    },
    {
      "cell_type": "code",
      "source": [
        "starting_config.cell[0,0] / 2"
      ],
      "metadata": {
        "id": "ha27iEXLau3G",
        "outputId": "413d41e7-4c39-4cac-cffa-4e06bacdda31",
        "colab": {
          "base_uri": "https://localhost:8080/"
        }
      },
      "id": "ha27iEXLau3G",
      "execution_count": 42,
      "outputs": [
        {
          "output_type": "execute_result",
          "data": {
            "text/plain": [
              "np.float64(5.173649863917758)"
            ]
          },
          "metadata": {},
          "execution_count": 42
        }
      ]
    },
    {
      "cell_type": "markdown",
      "id": "d50f509a-946f-4b16-89d5-19667d3d2f49",
      "metadata": {
        "id": "d50f509a-946f-4b16-89d5-19667d3d2f49"
      },
      "source": [
        "### Question"
      ]
    },
    {
      "cell_type": "markdown",
      "id": "6f726b79-bca1-4f77-b810-3da483e33526",
      "metadata": {
        "id": "6f726b79-bca1-4f77-b810-3da483e33526"
      },
      "source": [
        "What is the _cell parameter_ of the resulting, optimized structure?  How does it compare to the experimental value (for solid argon)?"
      ]
    },
    {
      "cell_type": "markdown",
      "id": "cf133ed5-f4f4-4641-b0c5-54e7883ad26a",
      "metadata": {
        "id": "cf133ed5-f4f4-4641-b0c5-54e7883ad26a"
      },
      "source": [
        "## Run dynamics"
      ]
    },
    {
      "cell_type": "markdown",
      "id": "0374ceaa-ab43-4a31-babc-56de4e6188b5",
      "metadata": {
        "id": "0374ceaa-ab43-4a31-babc-56de4e6188b5"
      },
      "source": [
        "Okay, now we get to the fun part!  Let's run some actual simulations and see the atoms move!"
      ]
    },
    {
      "cell_type": "code",
      "execution_count": 10,
      "id": "e11c9e23-2045-4bee-a0aa-e662dd7a0dec",
      "metadata": {
        "id": "e11c9e23-2045-4bee-a0aa-e662dd7a0dec"
      },
      "outputs": [],
      "source": [
        "import ase.md"
      ]
    },
    {
      "cell_type": "markdown",
      "id": "ca81762f-8687-41ba-9871-878ac79f28bc",
      "metadata": {
        "id": "ca81762f-8687-41ba-9871-878ac79f28bc"
      },
      "source": [
        "First, we need an \"integrator\" that actually solves the equations of motion.  Velocity Verlet is a good choice:"
      ]
    },
    {
      "cell_type": "code",
      "source": [
        "from ase.md import MDLogger"
      ],
      "metadata": {
        "id": "uJCubqoBin2B"
      },
      "id": "uJCubqoBin2B",
      "execution_count": 12,
      "outputs": []
    },
    {
      "cell_type": "code",
      "execution_count": 11,
      "id": "70fa5ca1-4d17-40f9-8c5e-8c27cbb641d3",
      "metadata": {
        "id": "70fa5ca1-4d17-40f9-8c5e-8c27cbb641d3"
      },
      "outputs": [],
      "source": [
        "\n",
        "vv = ase.md.VelocityVerlet(atoms=starting_config, timestep=1.0, trajectory='trial_traj.xyz')\n",
        "vv.attach(MDLogger(vv, starting_config, 'md.log', header=True, stress=False,\n",
        "          peratom=False, mode=\"a\"), interval=1)"
      ]
    },
    {
      "cell_type": "markdown",
      "id": "5e43507d-807b-4521-b64f-48c9499a79f6",
      "metadata": {
        "id": "5e43507d-807b-4521-b64f-48c9499a79f6"
      },
      "source": [
        "And now we just run it for 50 timesteps and see what happens!"
      ]
    },
    {
      "cell_type": "code",
      "execution_count": 45,
      "id": "d79ee2a1-ddf1-4234-b09a-bfbce7384ccf",
      "metadata": {
        "id": "d79ee2a1-ddf1-4234-b09a-bfbce7384ccf",
        "outputId": "4d89ae58-0785-4dd6-8f58-2dd3cc2e97f5",
        "colab": {
          "base_uri": "https://localhost:8080/"
        }
      },
      "outputs": [
        {
          "output_type": "execute_result",
          "data": {
            "text/plain": [
              "True"
            ]
          },
          "metadata": {},
          "execution_count": 45
        }
      ],
      "source": [
        "vv.run(50)"
      ]
    },
    {
      "cell_type": "markdown",
      "id": "8d4e3f35-7969-4f8d-989e-2b27d65aaeea",
      "metadata": {
        "id": "8d4e3f35-7969-4f8d-989e-2b27d65aaeea"
      },
      "source": [
        "Finally, try loading the output in the `ase gui` and see if we got anything..."
      ]
    },
    {
      "cell_type": "code",
      "source": [
        "traj = ase.io.read('trial_traj.xyz', '-50:')"
      ],
      "metadata": {
        "id": "hMf8xMyLci4f"
      },
      "id": "hMf8xMyLci4f",
      "execution_count": 46,
      "outputs": []
    },
    {
      "cell_type": "code",
      "source": [
        "view(traj[10], viewer='x3d')"
      ],
      "metadata": {
        "id": "RUD-bNPJcoLe",
        "outputId": "863ae2a7-46b2-4b75-97b9-dd676af2de7a",
        "colab": {
          "base_uri": "https://localhost:8080/",
          "height": 317
        }
      },
      "id": "RUD-bNPJcoLe",
      "execution_count": 49,
      "outputs": [
        {
          "output_type": "execute_result",
          "data": {
            "text/plain": [
              "<IPython.core.display.HTML object>"
            ],
            "text/html": [
              "<html>\n",
              "    <head>\n",
              "        <title>ASE atomic visualization</title>\n",
              "        <link rel=\"stylesheet\" type=\"text/css\"             href=\"https://www.x3dom.org/release/x3dom.css\"></link>\n",
              "        <script type=\"text/javascript\"             src=\"https://www.x3dom.org/release/x3dom.js\"></script>\n",
              "    </head>\n",
              "    <body>\n",
              "        <X3D width=\"400px\"; height=\"300px\";>\n",
              "\n",
              "<!--Inserting Generated X3D Scene-->\n",
              "<scene>\n",
              "  <viewpoint position=\"0 0 20.694599457196706\">\n",
              "    <group/>\n",
              "  </viewpoint>\n",
              "  <transform translation=\"-5.173649863917758 -5.173649863917758 -5.173649863917758\">\n",
              "    <group>\n",
              "      <group>\n",
              "        <transform translation=\"0 0 0\">\n",
              "          <shape>\n",
              "            <appearance>\n",
              "              <material diffuseColor=\"0 0 0\"/>\n",
              "            </appearance>\n",
              "            <lineset vertexCount=\"5\">\n",
              "              <coordinate point=\"0 0 0 10.347299727835516 -2.113899567688366e-18 5.580984014422782e-20 10.347299727835516 10.347299727835516 3.7938484550710325e-20 -6.08488378391463e-18 10.347299727835516 -1.787135559351749e-20 0 0 0\"/>\n",
              "            </lineset>\n",
              "          </shape>\n",
              "        </transform>\n",
              "        <transform translation=\"-2.43572762310049e-18 -9.07649068997225e-20 10.347299727835516\">\n",
              "          <shape>\n",
              "            <appearance>\n",
              "              <material diffuseColor=\"0 0 0\"/>\n",
              "            </appearance>\n",
              "            <lineset vertexCount=\"5\">\n",
              "              <coordinate point=\"0 0 0 10.347299727835516 -2.113899567688366e-18 5.580984014422782e-20 10.347299727835516 10.347299727835516 3.7938484550710325e-20 -6.08488378391463e-18 10.347299727835516 -1.787135559351749e-20 0 0 0\"/>\n",
              "            </lineset>\n",
              "          </shape>\n",
              "        </transform>\n",
              "        <transform translation=\"0 0 0\">\n",
              "          <shape>\n",
              "            <appearance>\n",
              "              <material diffuseColor=\"0 0 0\"/>\n",
              "            </appearance>\n",
              "            <lineset vertexCount=\"5\">\n",
              "              <coordinate point=\"0 0 0 10.347299727835516 -2.113899567688366e-18 5.580984014422782e-20 10.347299727835516 -2.2046644745880885e-18 10.347299727835516 -2.43572762310049e-18 -9.07649068997225e-20 10.347299727835516 0 0 0\"/>\n",
              "            </lineset>\n",
              "          </shape>\n",
              "        </transform>\n",
              "        <transform translation=\"-6.08488378391463e-18 10.347299727835516 -1.787135559351749e-20\">\n",
              "          <shape>\n",
              "            <appearance>\n",
              "              <material diffuseColor=\"0 0 0\"/>\n",
              "            </appearance>\n",
              "            <lineset vertexCount=\"5\">\n",
              "              <coordinate point=\"0 0 0 10.347299727835516 -2.113899567688366e-18 5.580984014422782e-20 10.347299727835516 -2.2046644745880885e-18 10.347299727835516 -2.43572762310049e-18 -9.07649068997225e-20 10.347299727835516 0 0 0\"/>\n",
              "            </lineset>\n",
              "          </shape>\n",
              "        </transform>\n",
              "      </group>\n",
              "      <group>\n",
              "        <transform translation=\"-7.628357400639916e-10 -7.628359215577842e-10 -7.628360628094973e-10\">\n",
              "          <shape>\n",
              "            <appearance>\n",
              "              <material diffuseColor=\"0.502 0.82 0.89\"/>\n",
              "            </appearance>\n",
              "            <sphere radius=\"1.06\"/>\n",
              "          </shape>\n",
              "        </transform>\n",
              "        <transform translation=\"-7.628358855218111e-10 2.5868249326357136 2.5868249326357136\">\n",
              "          <shape>\n",
              "            <appearance>\n",
              "              <material diffuseColor=\"0.502 0.82 0.89\"/>\n",
              "            </appearance>\n",
              "            <sphere radius=\"1.06\"/>\n",
              "          </shape>\n",
              "        </transform>\n",
              "        <transform translation=\"2.5868249326357136 -7.628364644011482e-10 2.586824932635713\">\n",
              "          <shape>\n",
              "            <appearance>\n",
              "              <material diffuseColor=\"0.502 0.82 0.89\"/>\n",
              "            </appearance>\n",
              "            <sphere radius=\"1.06\"/>\n",
              "          </shape>\n",
              "        </transform>\n",
              "        <transform translation=\"2.586824932635714 2.586824932635713 -7.628362961562616e-10\">\n",
              "          <shape>\n",
              "            <appearance>\n",
              "              <material diffuseColor=\"0.502 0.82 0.89\"/>\n",
              "            </appearance>\n",
              "            <sphere radius=\"1.06\"/>\n",
              "          </shape>\n",
              "        </transform>\n",
              "        <transform translation=\"-7.628362949619703e-10 -7.628369108666323e-10 5.173649866017044\">\n",
              "          <shape>\n",
              "            <appearance>\n",
              "              <material diffuseColor=\"0.502 0.82 0.89\"/>\n",
              "            </appearance>\n",
              "            <sphere radius=\"1.06\"/>\n",
              "          </shape>\n",
              "        </transform>\n",
              "        <transform translation=\"-7.628360904832286e-10 2.5868249326357144 7.760474792110078\">\n",
              "          <shape>\n",
              "            <appearance>\n",
              "              <material diffuseColor=\"0.502 0.82 0.89\"/>\n",
              "            </appearance>\n",
              "            <sphere radius=\"1.06\"/>\n",
              "          </shape>\n",
              "        </transform>\n",
              "        <transform translation=\"2.586824932635714 -7.628363917389293e-10 7.760474792110079\">\n",
              "          <shape>\n",
              "            <appearance>\n",
              "              <material diffuseColor=\"0.502 0.82 0.89\"/>\n",
              "            </appearance>\n",
              "            <sphere radius=\"1.06\"/>\n",
              "          </shape>\n",
              "        </transform>\n",
              "        <transform translation=\"2.586824932635714 2.5868249326357136 5.173649866017044\">\n",
              "          <shape>\n",
              "            <appearance>\n",
              "              <material diffuseColor=\"0.502 0.82 0.89\"/>\n",
              "            </appearance>\n",
              "            <sphere radius=\"1.06\"/>\n",
              "          </shape>\n",
              "        </transform>\n",
              "        <transform translation=\"-7.628364801531874e-10 5.173649866017043 -7.62837065846818e-10\">\n",
              "          <shape>\n",
              "            <appearance>\n",
              "              <material diffuseColor=\"0.502 0.82 0.89\"/>\n",
              "            </appearance>\n",
              "            <sphere radius=\"1.06\"/>\n",
              "          </shape>\n",
              "        </transform>\n",
              "        <transform translation=\"-7.628361864632458e-10 7.760474792110078 2.586824932635714\">\n",
              "          <shape>\n",
              "            <appearance>\n",
              "              <material diffuseColor=\"0.502 0.82 0.89\"/>\n",
              "            </appearance>\n",
              "            <sphere radius=\"1.06\"/>\n",
              "          </shape>\n",
              "        </transform>\n",
              "        <transform translation=\"2.5868249326357136 5.173649866017044 2.586824932635714\">\n",
              "          <shape>\n",
              "            <appearance>\n",
              "              <material diffuseColor=\"0.502 0.82 0.89\"/>\n",
              "            </appearance>\n",
              "            <sphere radius=\"1.06\"/>\n",
              "          </shape>\n",
              "        </transform>\n",
              "        <transform translation=\"2.5868249326357144 7.760474792110078 -7.628362727468716e-10\">\n",
              "          <shape>\n",
              "            <appearance>\n",
              "              <material diffuseColor=\"0.502 0.82 0.89\"/>\n",
              "            </appearance>\n",
              "            <sphere radius=\"1.06\"/>\n",
              "          </shape>\n",
              "        </transform>\n",
              "        <transform translation=\"-7.628362401703257e-10 5.173649866017043 5.173649866017043\">\n",
              "          <shape>\n",
              "            <appearance>\n",
              "              <material diffuseColor=\"0.502 0.82 0.89\"/>\n",
              "            </appearance>\n",
              "            <sphere radius=\"1.06\"/>\n",
              "          </shape>\n",
              "        </transform>\n",
              "        <transform translation=\"-7.628365956302845e-10 7.760474792110077 7.760474792110077\">\n",
              "          <shape>\n",
              "            <appearance>\n",
              "              <material diffuseColor=\"0.502 0.82 0.89\"/>\n",
              "            </appearance>\n",
              "            <sphere radius=\"1.06\"/>\n",
              "          </shape>\n",
              "        </transform>\n",
              "        <transform translation=\"2.586824932635714 5.173649866017043 7.760474792110079\">\n",
              "          <shape>\n",
              "            <appearance>\n",
              "              <material diffuseColor=\"0.502 0.82 0.89\"/>\n",
              "            </appearance>\n",
              "            <sphere radius=\"1.06\"/>\n",
              "          </shape>\n",
              "        </transform>\n",
              "        <transform translation=\"2.5868249326357136 7.760474792110079 5.173649866017043\">\n",
              "          <shape>\n",
              "            <appearance>\n",
              "              <material diffuseColor=\"0.502 0.82 0.89\"/>\n",
              "            </appearance>\n",
              "            <sphere radius=\"1.06\"/>\n",
              "          </shape>\n",
              "        </transform>\n",
              "        <transform translation=\"5.173649866017044 -7.628364875303981e-10 -7.62836685616936e-10\">\n",
              "          <shape>\n",
              "            <appearance>\n",
              "              <material diffuseColor=\"0.502 0.82 0.89\"/>\n",
              "            </appearance>\n",
              "            <sphere radius=\"1.06\"/>\n",
              "          </shape>\n",
              "        </transform>\n",
              "        <transform translation=\"5.173649866017044 2.586824932635713 2.5868249326357136\">\n",
              "          <shape>\n",
              "            <appearance>\n",
              "              <material diffuseColor=\"0.502 0.82 0.89\"/>\n",
              "            </appearance>\n",
              "            <sphere radius=\"1.06\"/>\n",
              "          </shape>\n",
              "        </transform>\n",
              "        <transform translation=\"7.760474792110079 -7.628366101727569e-10 2.5868249326357136\">\n",
              "          <shape>\n",
              "            <appearance>\n",
              "              <material diffuseColor=\"0.502 0.82 0.89\"/>\n",
              "            </appearance>\n",
              "            <sphere radius=\"1.06\"/>\n",
              "          </shape>\n",
              "        </transform>\n",
              "        <transform translation=\"7.760474792110078 2.5868249326357136 -7.628367042599072e-10\">\n",
              "          <shape>\n",
              "            <appearance>\n",
              "              <material diffuseColor=\"0.502 0.82 0.89\"/>\n",
              "            </appearance>\n",
              "            <sphere radius=\"1.06\"/>\n",
              "          </shape>\n",
              "        </transform>\n",
              "        <transform translation=\"5.173649866017043 -7.628365576067585e-10 5.173649866017044\">\n",
              "          <shape>\n",
              "            <appearance>\n",
              "              <material diffuseColor=\"0.502 0.82 0.89\"/>\n",
              "            </appearance>\n",
              "            <sphere radius=\"1.06\"/>\n",
              "          </shape>\n",
              "        </transform>\n",
              "        <transform translation=\"5.173649866017044 2.5868249326357136 7.760474792110079\">\n",
              "          <shape>\n",
              "            <appearance>\n",
              "              <material diffuseColor=\"0.502 0.82 0.89\"/>\n",
              "            </appearance>\n",
              "            <sphere radius=\"1.06\"/>\n",
              "          </shape>\n",
              "        </transform>\n",
              "        <transform translation=\"7.760474792110078 -7.628363399347279e-10 7.760474792110077\">\n",
              "          <shape>\n",
              "            <appearance>\n",
              "              <material diffuseColor=\"0.502 0.82 0.89\"/>\n",
              "            </appearance>\n",
              "            <sphere radius=\"1.06\"/>\n",
              "          </shape>\n",
              "        </transform>\n",
              "        <transform translation=\"7.760474792110079 2.586824932635713 5.173649866017043\">\n",
              "          <shape>\n",
              "            <appearance>\n",
              "              <material diffuseColor=\"0.502 0.82 0.89\"/>\n",
              "            </appearance>\n",
              "            <sphere radius=\"1.06\"/>\n",
              "          </shape>\n",
              "        </transform>\n",
              "        <transform translation=\"5.173649866017043 5.173649866017043 -7.628363915142583e-10\">\n",
              "          <shape>\n",
              "            <appearance>\n",
              "              <material diffuseColor=\"0.502 0.82 0.89\"/>\n",
              "            </appearance>\n",
              "            <sphere radius=\"1.06\"/>\n",
              "          </shape>\n",
              "        </transform>\n",
              "        <transform translation=\"5.173649866017044 7.760474792110079 2.586824932635713\">\n",
              "          <shape>\n",
              "            <appearance>\n",
              "              <material diffuseColor=\"0.502 0.82 0.89\"/>\n",
              "            </appearance>\n",
              "            <sphere radius=\"1.06\"/>\n",
              "          </shape>\n",
              "        </transform>\n",
              "        <transform translation=\"7.760474792110079 5.173649866017043 2.586824932635713\">\n",
              "          <shape>\n",
              "            <appearance>\n",
              "              <material diffuseColor=\"0.502 0.82 0.89\"/>\n",
              "            </appearance>\n",
              "            <sphere radius=\"1.06\"/>\n",
              "          </shape>\n",
              "        </transform>\n",
              "        <transform translation=\"7.760474792110078 7.760474792110077 -7.628367539029752e-10\">\n",
              "          <shape>\n",
              "            <appearance>\n",
              "              <material diffuseColor=\"0.502 0.82 0.89\"/>\n",
              "            </appearance>\n",
              "            <sphere radius=\"1.06\"/>\n",
              "          </shape>\n",
              "        </transform>\n",
              "        <transform translation=\"5.173649866017043 5.173649866017044 5.173649866017045\">\n",
              "          <shape>\n",
              "            <appearance>\n",
              "              <material diffuseColor=\"0.502 0.82 0.89\"/>\n",
              "            </appearance>\n",
              "            <sphere radius=\"1.06\"/>\n",
              "          </shape>\n",
              "        </transform>\n",
              "        <transform translation=\"5.173649866017043 7.760474792110078 7.760474792110079\">\n",
              "          <shape>\n",
              "            <appearance>\n",
              "              <material diffuseColor=\"0.502 0.82 0.89\"/>\n",
              "            </appearance>\n",
              "            <sphere radius=\"1.06\"/>\n",
              "          </shape>\n",
              "        </transform>\n",
              "        <transform translation=\"7.760474792110078 5.173649866017044 7.760474792110079\">\n",
              "          <shape>\n",
              "            <appearance>\n",
              "              <material diffuseColor=\"0.502 0.82 0.89\"/>\n",
              "            </appearance>\n",
              "            <sphere radius=\"1.06\"/>\n",
              "          </shape>\n",
              "        </transform>\n",
              "        <transform translation=\"7.760474792110078 7.760474792110079 5.173649866017044\">\n",
              "          <shape>\n",
              "            <appearance>\n",
              "              <material diffuseColor=\"0.502 0.82 0.89\"/>\n",
              "            </appearance>\n",
              "            <sphere radius=\"1.06\"/>\n",
              "          </shape>\n",
              "        </transform>\n",
              "      </group>\n",
              "    </group>\n",
              "  </transform>\n",
              "</scene>\n",
              "<!--End of Inserted Scene-->\n",
              "\n",
              "        </X3D>\n",
              "    </body>\n",
              "</html>\n",
              "\n"
            ]
          },
          "metadata": {},
          "execution_count": 49
        }
      ]
    },
    {
      "cell_type": "markdown",
      "id": "6eabd68d-a5b5-4814-aae0-68158f2363d8",
      "metadata": {
        "id": "6eabd68d-a5b5-4814-aae0-68158f2363d8"
      },
      "source": [
        "----\n",
        "SPOILER ALERT\n",
        "\n"
      ]
    },
    {
      "cell_type": "markdown",
      "id": "3133d6f5-6a4c-4daf-9ed8-732c11d524ae",
      "metadata": {
        "id": "3133d6f5-6a4c-4daf-9ed8-732c11d524ae"
      },
      "source": [
        "...nothing happened.  That's because we haven't initialized the _velocities_ on the atoms, so they're not moving!  Let's set them up with a nice initial, \"thermal\" velocity."
      ]
    },
    {
      "cell_type": "code",
      "execution_count": 9,
      "id": "8fedc216-0757-4a17-9485-751dfb6e35cc",
      "metadata": {
        "id": "8fedc216-0757-4a17-9485-751dfb6e35cc"
      },
      "outputs": [],
      "source": [
        "from ase.md import velocitydistribution"
      ]
    },
    {
      "cell_type": "code",
      "execution_count": 13,
      "id": "1b361dfb-8c71-4929-aaf8-19a3b39c18be",
      "metadata": {
        "id": "1b361dfb-8c71-4929-aaf8-19a3b39c18be"
      },
      "outputs": [],
      "source": [
        "velocitydistribution.MaxwellBoltzmannDistribution(starting_config, temperature_K=40)"
      ]
    },
    {
      "cell_type": "code",
      "execution_count": 55,
      "id": "c6b18f3c-4019-4457-878e-07f145f6dc99",
      "metadata": {
        "id": "c6b18f3c-4019-4457-878e-07f145f6dc99",
        "outputId": "ef1500f9-ab1a-4010-da71-eb3efc3e1f7a",
        "colab": {
          "base_uri": "https://localhost:8080/"
        }
      },
      "outputs": [
        {
          "output_type": "execute_result",
          "data": {
            "text/plain": [
              "True"
            ]
          },
          "metadata": {},
          "execution_count": 55
        }
      ],
      "source": [
        "vv.run(50)"
      ]
    },
    {
      "cell_type": "code",
      "source": [
        "import numpy as np"
      ],
      "metadata": {
        "id": "RVtuEPy_d315"
      },
      "id": "RVtuEPy_d315",
      "execution_count": 57,
      "outputs": []
    },
    {
      "cell_type": "code",
      "source": [
        "md_log = np.loadtxt('md.log', skiprows=52)"
      ],
      "metadata": {
        "id": "uqCUDK29dm9d"
      },
      "id": "uqCUDK29dm9d",
      "execution_count": 58,
      "outputs": []
    },
    {
      "cell_type": "code",
      "source": [
        "md_log"
      ],
      "metadata": {
        "collapsed": true,
        "id": "qQV8Ai1Jd290",
        "outputId": "9ee47e80-f9e1-4369-f307-f8e3569b8d14",
        "colab": {
          "base_uri": "https://localhost:8080/"
        }
      },
      "id": "qQV8Ai1Jd290",
      "execution_count": 59,
      "outputs": [
        {
          "output_type": "execute_result",
          "data": {
            "text/plain": [
              "array([[ 0.0000e+00, -2.7783e+00, -2.7783e+00,  0.0000e+00,  0.0000e+00],\n",
              "       [ 1.0200e-02, -2.7783e+00, -2.7783e+00,  0.0000e+00,  0.0000e+00],\n",
              "       [ 2.0400e-02, -2.7783e+00, -2.7783e+00,  0.0000e+00,  0.0000e+00],\n",
              "       [ 3.0500e-02, -2.7783e+00, -2.7783e+00,  0.0000e+00,  0.0000e+00],\n",
              "       [ 4.0700e-02, -2.7783e+00, -2.7783e+00,  0.0000e+00,  0.0000e+00],\n",
              "       [ 5.0900e-02, -2.7783e+00, -2.7783e+00,  0.0000e+00,  0.0000e+00],\n",
              "       [ 6.1100e-02, -2.7783e+00, -2.7783e+00,  0.0000e+00,  0.0000e+00],\n",
              "       [ 7.1300e-02, -2.7783e+00, -2.7783e+00,  0.0000e+00,  0.0000e+00],\n",
              "       [ 8.1400e-02, -2.7783e+00, -2.7783e+00,  0.0000e+00,  0.0000e+00],\n",
              "       [ 9.1600e-02, -2.7783e+00, -2.7783e+00,  0.0000e+00,  0.0000e+00],\n",
              "       [ 1.0180e-01, -2.7783e+00, -2.7783e+00,  0.0000e+00,  0.0000e+00],\n",
              "       [ 1.1200e-01, -2.7783e+00, -2.7783e+00,  0.0000e+00,  0.0000e+00],\n",
              "       [ 1.2220e-01, -2.7783e+00, -2.7783e+00,  0.0000e+00,  0.0000e+00],\n",
              "       [ 1.3230e-01, -2.7783e+00, -2.7783e+00,  0.0000e+00,  0.0000e+00],\n",
              "       [ 1.4250e-01, -2.7783e+00, -2.7783e+00,  0.0000e+00,  0.0000e+00],\n",
              "       [ 1.5270e-01, -2.7783e+00, -2.7783e+00,  0.0000e+00,  0.0000e+00],\n",
              "       [ 1.6290e-01, -2.7783e+00, -2.7783e+00,  0.0000e+00,  0.0000e+00],\n",
              "       [ 1.7310e-01, -2.7783e+00, -2.7783e+00,  0.0000e+00,  0.0000e+00],\n",
              "       [ 1.8320e-01, -2.7783e+00, -2.7783e+00,  0.0000e+00,  0.0000e+00],\n",
              "       [ 1.9340e-01, -2.7783e+00, -2.7783e+00,  0.0000e+00,  0.0000e+00],\n",
              "       [ 2.0360e-01, -2.7783e+00, -2.7783e+00,  0.0000e+00,  0.0000e+00],\n",
              "       [ 2.1380e-01, -2.7783e+00, -2.7783e+00,  0.0000e+00,  0.0000e+00],\n",
              "       [ 2.2400e-01, -2.7783e+00, -2.7783e+00,  0.0000e+00,  0.0000e+00],\n",
              "       [ 2.3420e-01, -2.7783e+00, -2.7783e+00,  0.0000e+00,  0.0000e+00],\n",
              "       [ 2.4430e-01, -2.7783e+00, -2.7783e+00,  0.0000e+00,  0.0000e+00],\n",
              "       [ 2.5450e-01, -2.7783e+00, -2.7783e+00,  0.0000e+00,  0.0000e+00],\n",
              "       [ 2.6470e-01, -2.7783e+00, -2.7783e+00,  0.0000e+00,  0.0000e+00],\n",
              "       [ 2.7490e-01, -2.7783e+00, -2.7783e+00,  0.0000e+00,  0.0000e+00],\n",
              "       [ 2.8510e-01, -2.7783e+00, -2.7783e+00,  0.0000e+00,  0.0000e+00],\n",
              "       [ 2.9520e-01, -2.7783e+00, -2.7783e+00,  0.0000e+00,  0.0000e+00],\n",
              "       [ 3.0540e-01, -2.7783e+00, -2.7783e+00,  0.0000e+00,  0.0000e+00],\n",
              "       [ 3.1560e-01, -2.7783e+00, -2.7783e+00,  0.0000e+00,  0.0000e+00],\n",
              "       [ 3.2580e-01, -2.7783e+00, -2.7783e+00,  0.0000e+00,  0.0000e+00],\n",
              "       [ 3.3600e-01, -2.7783e+00, -2.7783e+00,  0.0000e+00,  0.0000e+00],\n",
              "       [ 3.4610e-01, -2.7783e+00, -2.7783e+00,  0.0000e+00,  0.0000e+00],\n",
              "       [ 3.5630e-01, -2.7783e+00, -2.7783e+00,  0.0000e+00,  0.0000e+00],\n",
              "       [ 3.6650e-01, -2.7783e+00, -2.7783e+00,  0.0000e+00,  0.0000e+00],\n",
              "       [ 3.7670e-01, -2.7783e+00, -2.7783e+00,  0.0000e+00,  0.0000e+00],\n",
              "       [ 3.8690e-01, -2.7783e+00, -2.7783e+00,  0.0000e+00,  0.0000e+00],\n",
              "       [ 3.9700e-01, -2.7783e+00, -2.7783e+00,  0.0000e+00,  0.0000e+00],\n",
              "       [ 4.0720e-01, -2.7783e+00, -2.7783e+00,  0.0000e+00,  0.0000e+00],\n",
              "       [ 4.1740e-01, -2.7783e+00, -2.7783e+00,  0.0000e+00,  0.0000e+00],\n",
              "       [ 4.2760e-01, -2.7783e+00, -2.7783e+00,  0.0000e+00,  0.0000e+00],\n",
              "       [ 4.3780e-01, -2.7783e+00, -2.7783e+00,  0.0000e+00,  0.0000e+00],\n",
              "       [ 4.4790e-01, -2.7783e+00, -2.7783e+00,  0.0000e+00,  0.0000e+00],\n",
              "       [ 4.5810e-01, -2.7783e+00, -2.7783e+00,  0.0000e+00,  0.0000e+00],\n",
              "       [ 4.6830e-01, -2.7783e+00, -2.7783e+00,  0.0000e+00,  0.0000e+00],\n",
              "       [ 4.7850e-01, -2.7783e+00, -2.7783e+00,  0.0000e+00,  0.0000e+00],\n",
              "       [ 4.8870e-01, -2.7783e+00, -2.7783e+00,  0.0000e+00,  0.0000e+00],\n",
              "       [ 4.9880e-01, -2.7783e+00, -2.7783e+00,  0.0000e+00,  0.0000e+00],\n",
              "       [ 5.0900e-01, -2.7783e+00, -2.7783e+00,  0.0000e+00,  0.0000e+00],\n",
              "       [ 5.1920e-01, -2.5801e+00, -2.7767e+00,  1.9660e-01,  4.7500e+01],\n",
              "       [ 5.2940e-01, -2.5801e+00, -2.7720e+00,  1.9190e-01,  4.6400e+01],\n",
              "       [ 5.3960e-01, -2.5801e+00, -2.7643e+00,  1.8420e-01,  4.4500e+01],\n",
              "       [ 5.4970e-01, -2.5800e+00, -2.7539e+00,  1.7380e-01,  4.2000e+01],\n",
              "       [ 5.5990e-01, -2.5800e+00, -2.7411e+00,  1.6110e-01,  3.9000e+01],\n",
              "       [ 5.7010e-01, -2.5800e+00, -2.7265e+00,  1.4660e-01,  3.5400e+01],\n",
              "       [ 5.8030e-01, -2.5799e+00, -2.7107e+00,  1.3080e-01,  3.1600e+01],\n",
              "       [ 5.9050e-01, -2.5799e+00, -2.6943e+00,  1.1440e-01,  2.7700e+01],\n",
              "       [ 6.0060e-01, -2.5798e+00, -2.6782e+00,  9.8400e-02,  2.3800e+01],\n",
              "       [ 6.1080e-01, -2.5798e+00, -2.6631e+00,  8.3300e-02,  2.0100e+01],\n",
              "       [ 6.2100e-01, -2.5798e+00, -2.6498e+00,  7.0100e-02,  1.6900e+01],\n",
              "       [ 6.3120e-01, -2.5797e+00, -2.6389e+00,  5.9200e-02,  1.4300e+01],\n",
              "       [ 6.4140e-01, -2.5797e+00, -2.6308e+00,  5.1100e-02,  1.2400e+01],\n",
              "       [ 6.5160e-01, -2.5797e+00, -2.6257e+00,  4.6000e-02,  1.1100e+01],\n",
              "       [ 6.6170e-01, -2.5797e+00, -2.6236e+00,  4.3800e-02,  1.0600e+01],\n",
              "       [ 6.7190e-01, -2.5798e+00, -2.6241e+00,  4.4300e-02,  1.0700e+01],\n",
              "       [ 6.8210e-01, -2.5798e+00, -2.6268e+00,  4.7000e-02,  1.1400e+01],\n",
              "       [ 6.9230e-01, -2.5798e+00, -2.6311e+00,  5.1300e-02,  1.2400e+01],\n",
              "       [ 7.0250e-01, -2.5799e+00, -2.6365e+00,  5.6600e-02,  1.3700e+01],\n",
              "       [ 7.1260e-01, -2.5799e+00, -2.6423e+00,  6.2400e-02,  1.5100e+01],\n",
              "       [ 7.2280e-01, -2.5799e+00, -2.6481e+00,  6.8100e-02,  1.6500e+01],\n",
              "       [ 7.3300e-01, -2.5799e+00, -2.6534e+00,  7.3400e-02,  1.7800e+01],\n",
              "       [ 7.4320e-01, -2.5800e+00, -2.6580e+00,  7.8000e-02,  1.8900e+01],\n",
              "       [ 7.5340e-01, -2.5800e+00, -2.6616e+00,  8.1700e-02,  1.9700e+01],\n",
              "       [ 7.6350e-01, -2.5800e+00, -2.6644e+00,  8.4400e-02,  2.0400e+01],\n",
              "       [ 7.7370e-01, -2.5799e+00, -2.6661e+00,  8.6200e-02,  2.0800e+01],\n",
              "       [ 7.8390e-01, -2.5799e+00, -2.6671e+00,  8.7200e-02,  2.1100e+01],\n",
              "       [ 7.9410e-01, -2.5799e+00, -2.6674e+00,  8.7500e-02,  2.1200e+01],\n",
              "       [ 8.0430e-01, -2.5799e+00, -2.6673e+00,  8.7400e-02,  2.1100e+01],\n",
              "       [ 8.1440e-01, -2.5799e+00, -2.6670e+00,  8.7100e-02,  2.1100e+01],\n",
              "       [ 8.2460e-01, -2.5799e+00, -2.6667e+00,  8.6800e-02,  2.1000e+01],\n",
              "       [ 8.3480e-01, -2.5799e+00, -2.6666e+00,  8.6700e-02,  2.1000e+01],\n",
              "       [ 8.4500e-01, -2.5799e+00, -2.6669e+00,  8.7000e-02,  2.1000e+01],\n",
              "       [ 8.5520e-01, -2.5799e+00, -2.6677e+00,  8.7900e-02,  2.1200e+01],\n",
              "       [ 8.6530e-01, -2.5799e+00, -2.6692e+00,  8.9300e-02,  2.1600e+01],\n",
              "       [ 8.7550e-01, -2.5799e+00, -2.6713e+00,  9.1400e-02,  2.2100e+01],\n",
              "       [ 8.8570e-01, -2.5799e+00, -2.6740e+00,  9.4100e-02,  2.2800e+01],\n",
              "       [ 8.9590e-01, -2.5799e+00, -2.6772e+00,  9.7300e-02,  2.3500e+01],\n",
              "       [ 9.0610e-01, -2.5799e+00, -2.6808e+00,  1.0090e-01,  2.4400e+01],\n",
              "       [ 9.1620e-01, -2.5799e+00, -2.6846e+00,  1.0470e-01,  2.5300e+01],\n",
              "       [ 9.2640e-01, -2.5799e+00, -2.6884e+00,  1.0850e-01,  2.6200e+01],\n",
              "       [ 9.3660e-01, -2.5799e+00, -2.6920e+00,  1.1210e-01,  2.7100e+01],\n",
              "       [ 9.4680e-01, -2.5799e+00, -2.6954e+00,  1.1550e-01,  2.7900e+01],\n",
              "       [ 9.5700e-01, -2.5799e+00, -2.6983e+00,  1.1840e-01,  2.8600e+01],\n",
              "       [ 9.6710e-01, -2.5799e+00, -2.7007e+00,  1.2080e-01,  2.9200e+01],\n",
              "       [ 9.7730e-01, -2.5799e+00, -2.7026e+00,  1.2270e-01,  2.9700e+01],\n",
              "       [ 9.8750e-01, -2.5799e+00, -2.7040e+00,  1.2400e-01,  3.0000e+01],\n",
              "       [ 9.9770e-01, -2.5799e+00, -2.7048e+00,  1.2490e-01,  3.0200e+01],\n",
              "       [ 1.0079e+00, -2.5799e+00, -2.7052e+00,  1.2530e-01,  3.0300e+01],\n",
              "       [ 1.0181e+00, -2.5799e+00, -2.7052e+00,  1.2530e-01,  3.0300e+01]])"
            ]
          },
          "metadata": {},
          "execution_count": 59
        }
      ]
    },
    {
      "cell_type": "code",
      "source": [
        "time, e_tot, e_pot, e_kin, T = md_log.T"
      ],
      "metadata": {
        "id": "7JeLh7CPd6mM"
      },
      "id": "7JeLh7CPd6mM",
      "execution_count": 60,
      "outputs": []
    },
    {
      "cell_type": "code",
      "source": [
        "from matplotlib import pyplot as plt"
      ],
      "metadata": {
        "id": "xvaKSk8HeJPu"
      },
      "id": "xvaKSk8HeJPu",
      "execution_count": 62,
      "outputs": []
    },
    {
      "cell_type": "code",
      "source": [
        "plt.plot(time, e_pot, c='C0', label='Potential energy')\n",
        "plt.plot(time, e_kin, c='C1', label='Kinetic energy')\n",
        "plt.plot(time, e_tot, c='k', label='Total energy')\n",
        "plt.legend()\n",
        "plt.xlabel('Time / ps')\n",
        "plt.ylabel('Energy / eV')"
      ],
      "metadata": {
        "id": "tc46Tfa-eFc6",
        "outputId": "0674f7cc-c028-41e7-91ed-38df261e652e",
        "colab": {
          "base_uri": "https://localhost:8080/",
          "height": 468
        }
      },
      "id": "tc46Tfa-eFc6",
      "execution_count": 68,
      "outputs": [
        {
          "output_type": "execute_result",
          "data": {
            "text/plain": [
              "Text(0, 0.5, 'Energy / eV')"
            ]
          },
          "metadata": {},
          "execution_count": 68
        },
        {
          "output_type": "display_data",
          "data": {
            "text/plain": [
              "<Figure size 640x480 with 1 Axes>"
            ],
            "image/png": "[encoded data removed]"
          },
          "metadata": {}
        }
      ]
    },
    {
      "cell_type": "code",
      "source": [
        "plt.plot(time, T)\n",
        "plt.xlabel('Time / ps')\n",
        "plt.ylabel('Temperature / K')"
      ],
      "metadata": {
        "id": "U8gIrq-ceIiH",
        "outputId": "e2f108f6-6751-4b6c-e0c9-e1e385a8850e",
        "colab": {
          "base_uri": "https://localhost:8080/",
          "height": 468
        }
      },
      "id": "U8gIrq-ceIiH",
      "execution_count": 78,
      "outputs": [
        {
          "output_type": "execute_result",
          "data": {
            "text/plain": [
              "Text(0, 0.5, 'Temperature / K')"
            ]
          },
          "metadata": {},
          "execution_count": 78
        },
        {
          "output_type": "display_data",
          "data": {
            "text/plain": [
              "<Figure size 640x480 with 1 Axes>"
            ],
            "image/png": "[encoded data removed]"
          },
          "metadata": {}
        }
      ]
    },
    {
      "cell_type": "markdown",
      "source": [
        "## Constant-temperature dynamics with the NVT ensemble"
      ],
      "metadata": {
        "id": "Ic6CjkDZgBTO"
      },
      "id": "Ic6CjkDZgBTO"
    },
    {
      "cell_type": "code",
      "source": [
        "nvt = ase.md.Langevin(atoms=starting_config, timestep=1.0, trajectory='traj_nvt.xyz',\n",
        "                      temperature_K=200, friction=0.1 / ase.units.fs)"
      ],
      "metadata": {
        "id": "95cuGwWJfQim"
      },
      "id": "95cuGwWJfQim",
      "execution_count": 88,
      "outputs": []
    },
    {
      "cell_type": "code",
      "source": [
        "nvt.attach(MDLogger(nvt, starting_config, 'md_nvt.log', header=True, stress=True,\n",
        "           peratom=False, mode=\"w\"), interval=10)"
      ],
      "metadata": {
        "id": "R1t8SVNugmqb"
      },
      "id": "R1t8SVNugmqb",
      "execution_count": 89,
      "outputs": []
    },
    {
      "cell_type": "code",
      "source": [
        "nvt.run(500)"
      ],
      "metadata": {
        "id": "WJan165Ng04w",
        "outputId": "041aa80b-49df-4b12-9d77-0dcb30c5e696",
        "colab": {
          "base_uri": "https://localhost:8080/"
        }
      },
      "id": "WJan165Ng04w",
      "execution_count": 90,
      "outputs": [
        {
          "output_type": "execute_result",
          "data": {
            "text/plain": [
              "True"
            ]
          },
          "metadata": {},
          "execution_count": 90
        }
      ]
    },
    {
      "cell_type": "code",
      "source": [
        "starting_config"
      ],
      "metadata": {
        "id": "xyM1kCRei3o7",
        "outputId": "ba6d59fd-7c96-4885-f55e-d0a7ef276eba",
        "colab": {
          "base_uri": "https://localhost:8080/"
        }
      },
      "id": "xyM1kCRei3o7",
      "execution_count": 69,
      "outputs": [
        {
          "output_type": "execute_result",
          "data": {
            "text/plain": [
              "Atoms(symbols='Ar32', pbc=True, cell=[[10.347299727835516, -2.113899567688366e-18, 5.580984014422782e-20], [-6.08488378391463e-18, 10.347299727835516, -1.787135559351749e-20], [-2.43572762310049e-18, -9.07649068997225e-20, 10.347299727835516]], momenta=..., calculator=LennardJones(...))"
            ]
          },
          "metadata": {},
          "execution_count": 69
        }
      ]
    },
    {
      "cell_type": "code",
      "source": [
        "md_log_nvt = np.loadtxt('md_nvt.log', skiprows=1)"
      ],
      "metadata": {
        "id": "SJ0YSaw2hU-W"
      },
      "id": "SJ0YSaw2hU-W",
      "execution_count": 84,
      "outputs": []
    },
    {
      "cell_type": "code",
      "source": [
        "time, e_tot, e_pot, e_kin, T = md_log_nvt.T"
      ],
      "metadata": {
        "id": "CGFvBa6cha4l"
      },
      "id": "CGFvBa6cha4l",
      "execution_count": 85,
      "outputs": []
    },
    {
      "cell_type": "code",
      "source": [
        "plt.plot(time, e_pot, c='C0', label='Potential energy')\n",
        "plt.plot(time, e_kin, c='C1', label='Kinetic energy')\n",
        "plt.plot(time, e_tot, c='k', label='Total energy')\n",
        "plt.legend()\n",
        "plt.xlabel('Time / ps')\n",
        "plt.ylabel('Energy / eV')"
      ],
      "metadata": {
        "id": "Q2Ci-T6Nhf0F",
        "outputId": "af8390a6-6dee-4f9e-bc4f-15aa362101b4",
        "colab": {
          "base_uri": "https://localhost:8080/",
          "height": 468
        }
      },
      "id": "Q2Ci-T6Nhf0F",
      "execution_count": 86,
      "outputs": [
        {
          "output_type": "execute_result",
          "data": {
            "text/plain": [
              "Text(0, 0.5, 'Energy / eV')"
            ]
          },
          "metadata": {},
          "execution_count": 86
        },
        {
          "output_type": "display_data",
          "data": {
            "text/plain": [
              "<Figure size 640x480 with 1 Axes>"
            ],
            "image/png": "[encoded data removed]"
          },
          "metadata": {}
        }
      ]
    },
    {
      "cell_type": "code",
      "source": [
        "plt.plot(time, T)\n",
        "plt.xlabel('Time / ps')\n",
        "plt.ylabel('Temperature / K')"
      ],
      "metadata": {
        "id": "bGU5z4E2hjrl",
        "outputId": "8cf6cc75-fcd7-4f43-a02c-fd4f2cfb2f6b",
        "colab": {
          "base_uri": "https://localhost:8080/",
          "height": 468
        }
      },
      "id": "bGU5z4E2hjrl",
      "execution_count": 87,
      "outputs": [
        {
          "output_type": "execute_result",
          "data": {
            "text/plain": [
              "Text(0, 0.5, 'Temperature / K')"
            ]
          },
          "metadata": {},
          "execution_count": 87
        },
        {
          "output_type": "display_data",
          "data": {
            "text/plain": [
              "<Figure size 640x480 with 1 Axes>"
            ],
            "image/png": "[encoded data removed]"
          },
          "metadata": {}
        }
      ]
    },
    {
      "cell_type": "markdown",
      "source": [
        "## Constant pressure and temperature (NPT)"
      ],
      "metadata": {
        "id": "EjGQaJmzmmkn"
      },
      "id": "EjGQaJmzmmkn"
    },
    {
      "cell_type": "code",
      "source": [
        "from ase.md.nptberendsen import NPTBerendsen"
      ],
      "metadata": {
        "id": "sBLWEcavmzMd"
      },
      "id": "sBLWEcavmzMd",
      "execution_count": 91,
      "outputs": []
    },
    {
      "cell_type": "code",
      "source": [
        "npt = NPTBerendsen(atoms=starting_config, timestep=1.0, trajectory='traj_npt.xyz',\n",
        "                   pressure_au=100000*ase.units.bar, temperature_K=200,\n",
        "                   taut=100*ase.units.fs, taup=500*ase.units.fs, compressibility=1)"
      ],
      "metadata": {
        "id": "7hJh6lmthp8H"
      },
      "id": "7hJh6lmthp8H",
      "execution_count": 112,
      "outputs": []
    },
    {
      "cell_type": "code",
      "source": [
        "ase.units.bar"
      ],
      "metadata": {
        "id": "9ogE-X6UnboO",
        "outputId": "b1eab3b1-4bff-473d-d03f-425105267f50",
        "colab": {
          "base_uri": "https://localhost:8080/"
        }
      },
      "id": "9ogE-X6UnboO",
      "execution_count": 113,
      "outputs": [
        {
          "output_type": "execute_result",
          "data": {
            "text/plain": [
              "6.241509125883258e-07"
            ]
          },
          "metadata": {},
          "execution_count": 113
        }
      ]
    },
    {
      "cell_type": "code",
      "source": [
        "npt.attach(MDLogger(npt, starting_config, 'md_npt.log', header=True, stress=True,\n",
        "           peratom=False, mode=\"w\"), interval=10)"
      ],
      "metadata": {
        "id": "mNzccoFfnOah"
      },
      "id": "mNzccoFfnOah",
      "execution_count": 114,
      "outputs": []
    },
    {
      "cell_type": "code",
      "source": [
        "npt.run(500)"
      ],
      "metadata": {
        "id": "84nKJAEfnVj6",
        "outputId": "4c0974d7-4ff0-45f1-f45d-d9159b2bb9be",
        "colab": {
          "base_uri": "https://localhost:8080/",
          "height": 433
        }
      },
      "id": "84nKJAEfnVj6",
      "execution_count": 115,
      "outputs": [
        {
          "output_type": "error",
          "ename": "ValueError",
          "evalue": "Encountering floating point overflow. The value of p too large for this dataset; For such large p, consider using the special case p=np.inf . ",
          "traceback": [
            "\u001b[0;31m---------------------------------------------------------------------------\u001b[0m",
            "\u001b[0;31mValueError\u001b[0m                                Traceback (most recent call last)",
            "\u001b[0;32m<ipython-input-115-1d2608044897>\u001b[0m in \u001b[0;36m<cell line: 0>\u001b[0;34m()\u001b[0m\n\u001b[0;32m----> 1\u001b[0;31m \u001b[0mnpt\u001b[0m\u001b[0;34m.\u001b[0m\u001b[0mrun\u001b[0m\u001b[0;34m(\u001b[0m\u001b[0;36m500\u001b[0m\u001b[0;34m)\u001b[0m\u001b[0;34m\u001b[0m\u001b[0;34m\u001b[0m\u001b[0m\n\u001b[0m",
            "\u001b[0;32m/usr/local/lib/python3.11/dist-packages/ase/md/md.py\u001b[0m in \u001b[0;36mrun\u001b[0;34m(self, steps)\u001b[0m\n\u001b[1;32m    169\u001b[0m             \u001b[0;32mTrue\u001b[0m \u001b[0;32mif\u001b[0m \u001b[0mthe\u001b[0m \u001b[0mmaximum\u001b[0m \u001b[0mnumber\u001b[0m \u001b[0mof\u001b[0m \u001b[0msteps\u001b[0m \u001b[0mare\u001b[0m \u001b[0mreached\u001b[0m\u001b[0;34m.\u001b[0m\u001b[0;34m\u001b[0m\u001b[0;34m\u001b[0m\u001b[0m\n\u001b[1;32m    170\u001b[0m         \"\"\"\n\u001b[0;32m--> 171\u001b[0;31m         \u001b[0;32mreturn\u001b[0m \u001b[0mDynamics\u001b[0m\u001b[0;34m.\u001b[0m\u001b[0mrun\u001b[0m\u001b[0;34m(\u001b[0m\u001b[0mself\u001b[0m\u001b[0;34m,\u001b[0m \u001b[0msteps\u001b[0m\u001b[0;34m=\u001b[0m\u001b[0msteps\u001b[0m\u001b[0;34m)\u001b[0m\u001b[0;34m\u001b[0m\u001b[0;34m\u001b[0m\u001b[0m\n\u001b[0m\u001b[1;32m    172\u001b[0m \u001b[0;34m\u001b[0m\u001b[0m\n\u001b[1;32m    173\u001b[0m     \u001b[0;32mdef\u001b[0m \u001b[0mget_time\u001b[0m\u001b[0;34m(\u001b[0m\u001b[0mself\u001b[0m\u001b[0;34m)\u001b[0m\u001b[0;34m:\u001b[0m\u001b[0;34m\u001b[0m\u001b[0;34m\u001b[0m\u001b[0m\n",
            "\u001b[0;32m/usr/local/lib/python3.11/dist-packages/ase/optimize/optimize.py\u001b[0m in \u001b[0;36mrun\u001b[0;34m(self, steps)\u001b[0m\n\u001b[1;32m    284\u001b[0m         \"\"\"\n\u001b[1;32m    285\u001b[0m \u001b[0;34m\u001b[0m\u001b[0m\n\u001b[0;32m--> 286\u001b[0;31m         \u001b[0;32mfor\u001b[0m \u001b[0mconverged\u001b[0m \u001b[0;32min\u001b[0m \u001b[0mDynamics\u001b[0m\u001b[0;34m.\u001b[0m\u001b[0mirun\u001b[0m\u001b[0;34m(\u001b[0m\u001b[0mself\u001b[0m\u001b[0;34m,\u001b[0m \u001b[0msteps\u001b[0m\u001b[0;34m=\u001b[0m\u001b[0msteps\u001b[0m\u001b[0;34m)\u001b[0m\u001b[0;34m:\u001b[0m\u001b[0;34m\u001b[0m\u001b[0;34m\u001b[0m\u001b[0m\n\u001b[0m\u001b[1;32m    287\u001b[0m             \u001b[0;32mpass\u001b[0m\u001b[0;34m\u001b[0m\u001b[0;34m\u001b[0m\u001b[0m\n\u001b[1;32m    288\u001b[0m         \u001b[0;32mreturn\u001b[0m \u001b[0mconverged\u001b[0m\u001b[0;34m\u001b[0m\u001b[0;34m\u001b[0m\u001b[0m\n",
            "\u001b[0;32m/usr/local/lib/python3.11/dist-packages/ase/optimize/optimize.py\u001b[0m in \u001b[0;36mirun\u001b[0;34m(self, steps)\u001b[0m\n\u001b[1;32m    255\u001b[0m         \u001b[0;32mwhile\u001b[0m \u001b[0;32mnot\u001b[0m \u001b[0mis_converged\u001b[0m \u001b[0;32mand\u001b[0m \u001b[0mself\u001b[0m\u001b[0;34m.\u001b[0m\u001b[0mnsteps\u001b[0m \u001b[0;34m<\u001b[0m \u001b[0mself\u001b[0m\u001b[0;34m.\u001b[0m\u001b[0mmax_steps\u001b[0m\u001b[0;34m:\u001b[0m\u001b[0;34m\u001b[0m\u001b[0;34m\u001b[0m\u001b[0m\n\u001b[1;32m    256\u001b[0m             \u001b[0;31m# compute the next step\u001b[0m\u001b[0;34m\u001b[0m\u001b[0;34m\u001b[0m\u001b[0m\n\u001b[0;32m--> 257\u001b[0;31m             \u001b[0mself\u001b[0m\u001b[0;34m.\u001b[0m\u001b[0mstep\u001b[0m\u001b[0;34m(\u001b[0m\u001b[0;34m)\u001b[0m\u001b[0;34m\u001b[0m\u001b[0;34m\u001b[0m\u001b[0m\n\u001b[0m\u001b[1;32m    258\u001b[0m             \u001b[0mself\u001b[0m\u001b[0;34m.\u001b[0m\u001b[0mnsteps\u001b[0m \u001b[0;34m+=\u001b[0m \u001b[0;36m1\u001b[0m\u001b[0;34m\u001b[0m\u001b[0;34m\u001b[0m\u001b[0m\n\u001b[1;32m    259\u001b[0m \u001b[0;34m\u001b[0m\u001b[0m\n",
            "\u001b[0;32m/usr/local/lib/python3.11/dist-packages/ase/md/nptberendsen.py\u001b[0m in \u001b[0;36mstep\u001b[0;34m(self, forces)\u001b[0m\n\u001b[1;32m    167\u001b[0m \u001b[0;34m\u001b[0m\u001b[0m\n\u001b[1;32m    168\u001b[0m         \u001b[0;32mif\u001b[0m \u001b[0mforces\u001b[0m \u001b[0;32mis\u001b[0m \u001b[0;32mNone\u001b[0m\u001b[0;34m:\u001b[0m\u001b[0;34m\u001b[0m\u001b[0;34m\u001b[0m\u001b[0m\n\u001b[0;32m--> 169\u001b[0;31m             \u001b[0mforces\u001b[0m \u001b[0;34m=\u001b[0m \u001b[0matoms\u001b[0m\u001b[0;34m.\u001b[0m\u001b[0mget_forces\u001b[0m\u001b[0;34m(\u001b[0m\u001b[0mmd\u001b[0m\u001b[0;34m=\u001b[0m\u001b[0;32mTrue\u001b[0m\u001b[0;34m)\u001b[0m\u001b[0;34m\u001b[0m\u001b[0;34m\u001b[0m\u001b[0m\n\u001b[0m\u001b[1;32m    170\u001b[0m \u001b[0;34m\u001b[0m\u001b[0m\n\u001b[1;32m    171\u001b[0m         \u001b[0mp\u001b[0m \u001b[0;34m=\u001b[0m \u001b[0mself\u001b[0m\u001b[0;34m.\u001b[0m\u001b[0matoms\u001b[0m\u001b[0;34m.\u001b[0m\u001b[0mget_momenta\u001b[0m\u001b[0;34m(\u001b[0m\u001b[0;34m)\u001b[0m\u001b[0;34m\u001b[0m\u001b[0;34m\u001b[0m\u001b[0m\n",
            "\u001b[0;32m/usr/local/lib/python3.11/dist-packages/ase/atoms.py\u001b[0m in \u001b[0;36mget_forces\u001b[0;34m(self, apply_constraint, md)\u001b[0m\n\u001b[1;32m    827\u001b[0m         \u001b[0;32mif\u001b[0m \u001b[0mself\u001b[0m\u001b[0;34m.\u001b[0m\u001b[0m_calc\u001b[0m \u001b[0;32mis\u001b[0m \u001b[0;32mNone\u001b[0m\u001b[0;34m:\u001b[0m\u001b[0;34m\u001b[0m\u001b[0;34m\u001b[0m\u001b[0m\n\u001b[1;32m    828\u001b[0m             \u001b[0;32mraise\u001b[0m \u001b[0mRuntimeError\u001b[0m\u001b[0;34m(\u001b[0m\u001b[0;34m'Atoms object has no calculator.'\u001b[0m\u001b[0;34m)\u001b[0m\u001b[0;34m\u001b[0m\u001b[0;34m\u001b[0m\u001b[0m\n\u001b[0;32m--> 829\u001b[0;31m         \u001b[0mforces\u001b[0m \u001b[0;34m=\u001b[0m \u001b[0mself\u001b[0m\u001b[0;34m.\u001b[0m\u001b[0m_calc\u001b[0m\u001b[0;34m.\u001b[0m\u001b[0mget_forces\u001b[0m\u001b[0;34m(\u001b[0m\u001b[0mself\u001b[0m\u001b[0;34m)\u001b[0m\u001b[0;34m\u001b[0m\u001b[0;34m\u001b[0m\u001b[0m\n\u001b[0m\u001b[1;32m    830\u001b[0m \u001b[0;34m\u001b[0m\u001b[0m\n\u001b[1;32m    831\u001b[0m         \u001b[0;32mif\u001b[0m \u001b[0mapply_constraint\u001b[0m\u001b[0;34m:\u001b[0m\u001b[0;34m\u001b[0m\u001b[0;34m\u001b[0m\u001b[0m\n",
            "\u001b[0;32m/usr/local/lib/python3.11/dist-packages/ase/calculators/abc.py\u001b[0m in \u001b[0;36mget_forces\u001b[0;34m(self, atoms)\u001b[0m\n\u001b[1;32m     30\u001b[0m \u001b[0;34m\u001b[0m\u001b[0m\n\u001b[1;32m     31\u001b[0m     \u001b[0;32mdef\u001b[0m \u001b[0mget_forces\u001b[0m\u001b[0;34m(\u001b[0m\u001b[0mself\u001b[0m\u001b[0;34m,\u001b[0m \u001b[0matoms\u001b[0m\u001b[0;34m=\u001b[0m\u001b[0;32mNone\u001b[0m\u001b[0;34m)\u001b[0m\u001b[0;34m:\u001b[0m\u001b[0;34m\u001b[0m\u001b[0;34m\u001b[0m\u001b[0m\n\u001b[0;32m---> 32\u001b[0;31m         \u001b[0;32mreturn\u001b[0m \u001b[0mself\u001b[0m\u001b[0;34m.\u001b[0m\u001b[0mget_property\u001b[0m\u001b[0;34m(\u001b[0m\u001b[0;34m'forces'\u001b[0m\u001b[0;34m,\u001b[0m \u001b[0matoms\u001b[0m\u001b[0;34m)\u001b[0m\u001b[0;34m\u001b[0m\u001b[0;34m\u001b[0m\u001b[0m\n\u001b[0m\u001b[1;32m     33\u001b[0m \u001b[0;34m\u001b[0m\u001b[0m\n\u001b[1;32m     34\u001b[0m     \u001b[0;32mdef\u001b[0m \u001b[0mget_stress\u001b[0m\u001b[0;34m(\u001b[0m\u001b[0mself\u001b[0m\u001b[0;34m,\u001b[0m \u001b[0matoms\u001b[0m\u001b[0;34m=\u001b[0m\u001b[0;32mNone\u001b[0m\u001b[0;34m)\u001b[0m\u001b[0;34m:\u001b[0m\u001b[0;34m\u001b[0m\u001b[0;34m\u001b[0m\u001b[0m\n",
            "\u001b[0;32m/usr/local/lib/python3.11/dist-packages/ase/calculators/calculator.py\u001b[0m in \u001b[0;36mget_property\u001b[0;34m(self, name, atoms, allow_calculation)\u001b[0m\n\u001b[1;32m    513\u001b[0m                 \u001b[0mself\u001b[0m\u001b[0;34m.\u001b[0m\u001b[0matoms\u001b[0m \u001b[0;34m=\u001b[0m \u001b[0matoms\u001b[0m\u001b[0;34m.\u001b[0m\u001b[0mcopy\u001b[0m\u001b[0;34m(\u001b[0m\u001b[0;34m)\u001b[0m\u001b[0;34m\u001b[0m\u001b[0;34m\u001b[0m\u001b[0m\n\u001b[1;32m    514\u001b[0m \u001b[0;34m\u001b[0m\u001b[0m\n\u001b[0;32m--> 515\u001b[0;31m             \u001b[0mself\u001b[0m\u001b[0;34m.\u001b[0m\u001b[0mcalculate\u001b[0m\u001b[0;34m(\u001b[0m\u001b[0matoms\u001b[0m\u001b[0;34m,\u001b[0m \u001b[0;34m[\u001b[0m\u001b[0mname\u001b[0m\u001b[0;34m]\u001b[0m\u001b[0;34m,\u001b[0m \u001b[0msystem_changes\u001b[0m\u001b[0;34m)\u001b[0m\u001b[0;34m\u001b[0m\u001b[0;34m\u001b[0m\u001b[0m\n\u001b[0m\u001b[1;32m    516\u001b[0m \u001b[0;34m\u001b[0m\u001b[0m\n\u001b[1;32m    517\u001b[0m         \u001b[0;32mif\u001b[0m \u001b[0mname\u001b[0m \u001b[0;32mnot\u001b[0m \u001b[0;32min\u001b[0m \u001b[0mself\u001b[0m\u001b[0;34m.\u001b[0m\u001b[0mresults\u001b[0m\u001b[0;34m:\u001b[0m\u001b[0;34m\u001b[0m\u001b[0;34m\u001b[0m\u001b[0m\n",
            "\u001b[0;32m/usr/local/lib/python3.11/dist-packages/ase/calculators/lj.py\u001b[0m in \u001b[0;36mcalculate\u001b[0;34m(self, atoms, properties, system_changes)\u001b[0m\n\u001b[1;32m    191\u001b[0m             )\n\u001b[1;32m    192\u001b[0m \u001b[0;34m\u001b[0m\u001b[0m\n\u001b[0;32m--> 193\u001b[0;31m         \u001b[0mself\u001b[0m\u001b[0;34m.\u001b[0m\u001b[0mnl\u001b[0m\u001b[0;34m.\u001b[0m\u001b[0mupdate\u001b[0m\u001b[0;34m(\u001b[0m\u001b[0mself\u001b[0m\u001b[0;34m.\u001b[0m\u001b[0matoms\u001b[0m\u001b[0;34m)\u001b[0m\u001b[0;34m\u001b[0m\u001b[0;34m\u001b[0m\u001b[0m\n\u001b[0m\u001b[1;32m    194\u001b[0m \u001b[0;34m\u001b[0m\u001b[0m\n\u001b[1;32m    195\u001b[0m         \u001b[0mpositions\u001b[0m \u001b[0;34m=\u001b[0m \u001b[0mself\u001b[0m\u001b[0;34m.\u001b[0m\u001b[0matoms\u001b[0m\u001b[0;34m.\u001b[0m\u001b[0mpositions\u001b[0m\u001b[0;34m\u001b[0m\u001b[0;34m\u001b[0m\u001b[0m\n",
            "\u001b[0;32m/usr/local/lib/python3.11/dist-packages/ase/neighborlist.py\u001b[0m in \u001b[0;36mupdate\u001b[0;34m(self, atoms)\u001b[0m\n\u001b[1;32m   1143\u001b[0m         \u001b[0;34m:\u001b[0m\u001b[0mmeth\u001b[0m\u001b[0;34m:\u001b[0m\u001b[0;31m`\u001b[0m\u001b[0mase\u001b[0m\u001b[0;34m.\u001b[0m\u001b[0mneighborlist\u001b[0m\u001b[0;34m.\u001b[0m\u001b[0mPrimitiveNeighborList\u001b[0m\u001b[0;34m.\u001b[0m\u001b[0mupdate\u001b[0m\u001b[0;31m`\u001b[0m\u001b[0;34m.\u001b[0m\u001b[0;34m\u001b[0m\u001b[0;34m\u001b[0m\u001b[0m\n\u001b[1;32m   1144\u001b[0m         \"\"\"\n\u001b[0;32m-> 1145\u001b[0;31m         return self.nl.update(atoms.pbc, atoms.get_cell(complete=True),\n\u001b[0m\u001b[1;32m   1146\u001b[0m                               atoms.positions)\n\u001b[1;32m   1147\u001b[0m \u001b[0;34m\u001b[0m\u001b[0m\n",
            "\u001b[0;32m/usr/local/lib/python3.11/dist-packages/ase/neighborlist.py\u001b[0m in \u001b[0;36mupdate\u001b[0;34m(self, pbc, cell, coordinates)\u001b[0m\n\u001b[1;32m    933\u001b[0m                 (self.coordinates\n\u001b[1;32m    934\u001b[0m                  - coordinates)**2).sum(1).max() > self.skin**2):\n\u001b[0;32m--> 935\u001b[0;31m             \u001b[0mself\u001b[0m\u001b[0;34m.\u001b[0m\u001b[0mbuild\u001b[0m\u001b[0;34m(\u001b[0m\u001b[0mpbc\u001b[0m\u001b[0;34m,\u001b[0m \u001b[0mcell\u001b[0m\u001b[0;34m,\u001b[0m \u001b[0mcoordinates\u001b[0m\u001b[0;34m)\u001b[0m\u001b[0;34m\u001b[0m\u001b[0;34m\u001b[0m\u001b[0m\n\u001b[0m\u001b[1;32m    936\u001b[0m             \u001b[0;32mreturn\u001b[0m \u001b[0;32mTrue\u001b[0m\u001b[0;34m\u001b[0m\u001b[0;34m\u001b[0m\u001b[0m\n\u001b[1;32m    937\u001b[0m \u001b[0;34m\u001b[0m\u001b[0m\n",
            "\u001b[0;32m/usr/local/lib/python3.11/dist-packages/ase/neighborlist.py\u001b[0m in \u001b[0;36mbuild\u001b[0;34m(self, pbc, cell, coordinates)\u001b[0m\n\u001b[1;32m    986\u001b[0m             \u001b[0mdisplacement\u001b[0m \u001b[0;34m=\u001b[0m \u001b[0;34m(\u001b[0m\u001b[0mn1\u001b[0m\u001b[0;34m,\u001b[0m \u001b[0mn2\u001b[0m\u001b[0;34m,\u001b[0m \u001b[0mn3\u001b[0m\u001b[0;34m)\u001b[0m \u001b[0;34m@\u001b[0m \u001b[0mrcell\u001b[0m\u001b[0;34m\u001b[0m\u001b[0;34m\u001b[0m\u001b[0m\n\u001b[1;32m    987\u001b[0m             \u001b[0mshift0\u001b[0m \u001b[0;34m=\u001b[0m \u001b[0;34m(\u001b[0m\u001b[0mn1\u001b[0m\u001b[0;34m,\u001b[0m \u001b[0mn2\u001b[0m\u001b[0;34m,\u001b[0m \u001b[0mn3\u001b[0m\u001b[0;34m)\u001b[0m \u001b[0;34m@\u001b[0m \u001b[0mop\u001b[0m\u001b[0;34m\u001b[0m\u001b[0;34m\u001b[0m\u001b[0m\n\u001b[0;32m--> 988\u001b[0;31m             indices_all = tree.query_ball_point(\n\u001b[0m\u001b[1;32m    989\u001b[0m                 \u001b[0mpositions\u001b[0m \u001b[0;34m-\u001b[0m \u001b[0mdisplacement\u001b[0m\u001b[0;34m,\u001b[0m\u001b[0;34m\u001b[0m\u001b[0;34m\u001b[0m\u001b[0m\n\u001b[1;32m    990\u001b[0m                 \u001b[0mr\u001b[0m\u001b[0;34m=\u001b[0m\u001b[0mself\u001b[0m\u001b[0;34m.\u001b[0m\u001b[0mcutoffs\u001b[0m \u001b[0;34m+\u001b[0m \u001b[0mrcmax\u001b[0m\u001b[0;34m,\u001b[0m\u001b[0;34m\u001b[0m\u001b[0;34m\u001b[0m\u001b[0m\n",
            "\u001b[0;32m_ckdtree.pyx\u001b[0m in \u001b[0;36mscipy.spatial._ckdtree.cKDTree.query_ball_point\u001b[0;34m()\u001b[0m\n",
            "\u001b[0;32m_ckdtree.pyx\u001b[0m in \u001b[0;36mscipy.spatial._ckdtree._run_threads\u001b[0;34m()\u001b[0m\n",
            "\u001b[0;32m_ckdtree.pyx\u001b[0m in \u001b[0;36mscipy.spatial._ckdtree.cKDTree.query_ball_point._thread_func\u001b[0;34m()\u001b[0m\n",
            "\u001b[0;31mValueError\u001b[0m: Encountering floating point overflow. The value of p too large for this dataset; For such large p, consider using the special case p=np.inf . "
          ]
        }
      ]
    },
    {
      "cell_type": "code",
      "source": [],
      "metadata": {
        "id": "LQ8i0ichnZdV"
      },
      "id": "LQ8i0ichnZdV",
      "execution_count": null,
      "outputs": []
    }
  ],
  "metadata": {
    "kernelspec": {
      "display_name": "Python 3 (ipykernel)",
      "language": "python",
      "name": "python3"
    },
    "language_info": {
      "codemirror_mode": {
        "name": "ipython",
        "version": 3
      },
      "file_extension": ".py",
      "mimetype": "text/x-python",
      "name": "python",
      "nbconvert_exporter": "python",
      "pygments_lexer": "ipython3",
      "version": "3.13.3"
    },
    "colab": {
      "provenance": []
    }
  },
  "nbformat": 4,
  "nbformat_minor": 5
}